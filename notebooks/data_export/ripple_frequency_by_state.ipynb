{
 "cells": [
  {
   "cell_type": "code",
   "execution_count": 1,
   "metadata": {},
   "outputs": [],
   "source": [
    "import pandas as pd\n",
    "\n",
    "from findlay2025a import core\n",
    "from findlay2025a.constants import Experiments as Exps\n",
    "from findlay2025a.constants import Files"
   ]
  },
  {
   "cell_type": "code",
   "execution_count": 2,
   "metadata": {},
   "outputs": [],
   "source": [
    "experiment_display_names = {\n",
    "    Exps.NOD: \"Novelty\",\n",
    "    Exps.COW: \"Locomotion\",\n",
    "    Exps.CTN: \"Dual\",\n",
    "}\n",
    "\n",
    "nb = core.get_project(\"seahorse\")\n",
    "df = pd.read_parquet(nb.get_project_file(Files.RIPPLES))\n",
    "\n",
    "df = df.groupby([\"experiment\", \"subject\", \"state\"])[\"zfreq\"].mean().reset_index()\n",
    "df.rename(columns={\"zfreq\": \"Ripple.Frequency\"}, inplace=True)\n",
    "df[\"experiment\"] = df[\"experiment\"].map(experiment_display_names)\n",
    "df = df[df[\"state\"].isin([\"Wake\", \"NREM\"])]\n",
    "\n",
    "df.to_parquet(nb.get_project_file(\"ripple_frequency_by_state.pqt\"))"
   ]
  },
  {
   "cell_type": "code",
   "execution_count": null,
   "metadata": {},
   "outputs": [],
   "source": []
  }
 ],
 "metadata": {
  "kernelspec": {
   "display_name": ".venv",
   "language": "python",
   "name": "python3"
  },
  "language_info": {
   "codemirror_mode": {
    "name": "ipython",
    "version": 3
   },
   "file_extension": ".py",
   "mimetype": "text/x-python",
   "name": "python",
   "nbconvert_exporter": "python",
   "pygments_lexer": "ipython3",
   "version": "3.13.2"
  }
 },
 "nbformat": 4,
 "nbformat_minor": 2
}
