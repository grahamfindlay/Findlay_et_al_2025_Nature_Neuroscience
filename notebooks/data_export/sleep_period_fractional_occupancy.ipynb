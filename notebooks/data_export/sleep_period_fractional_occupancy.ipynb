{
 "cells": [
  {
   "cell_type": "code",
   "execution_count": 1,
   "metadata": {},
   "outputs": [],
   "source": [
    "import numpy as np\n",
    "import pandas as pd\n",
    "import wisc_ecephys_tools as wet\n",
    "from ecephys import wne\n",
    "from scipy import stats\n",
    "\n",
    "from findlay2025a import core, hypnograms\n",
    "from findlay2025a.constants import Experiments as Exps"
   ]
  },
  {
   "cell_type": "code",
   "execution_count": 2,
   "metadata": {},
   "outputs": [],
   "source": [
    "experiment_display_names = {\n",
    "    Exps.NOD: \"Novelty\",\n",
    "    Exps.COW: \"Locomotion\",\n",
    "    Exps.CTN: \"Dual\",\n",
    "}"
   ]
  },
  {
   "cell_type": "code",
   "execution_count": 3,
   "metadata": {},
   "outputs": [],
   "source": [
    "def get_bout_duration_ecdfs(hg: pd.DataFrame):\n",
    "    g = hg.groupby(\"state\")\n",
    "    return {state: stats.ecdf(g.get_group(state)[\"duration\"]) for state in g.groups}\n",
    "\n",
    "\n",
    "def bout_duration_ecdfs_to_df(\n",
    "    ecdfs, duration=np.linspace(0.5, 600, 1200, endpoint=True)\n",
    ") -> pd.DataFrame:\n",
    "    return pd.concat(\n",
    "        [\n",
    "            pd.DataFrame(\n",
    "                {\n",
    "                    \"duration\": duration,\n",
    "                    \"Proportion\": ecdfs[state].cdf.evaluate(duration),\n",
    "                    \"state\": state,\n",
    "                }\n",
    "            )\n",
    "            for state in ecdfs\n",
    "        ],\n",
    "        axis=0,\n",
    "        ignore_index=True,\n",
    "    )"
   ]
  },
  {
   "cell_type": "code",
   "execution_count": 4,
   "metadata": {},
   "outputs": [],
   "source": [
    "s3 = core.get_project(\"shared\")\n",
    "frac = pd.DataFrame()\n",
    "hg = pd.DataFrame()\n",
    "ecdf = pd.DataFrame()\n",
    "\n",
    "for sglx_subject, experiment in core.yield_sglx_subject_experiment_pairs(\n",
    "    [Exps.NOD, Exps.COW]\n",
    "):\n",
    "    ### Step 1: Get hypnograms\n",
    "    lib_hg = wne.sglx.utils.load_reconciled_float_hypnogram(\n",
    "        s3,\n",
    "        experiment,\n",
    "        sglx_subject,\n",
    "        probes=[],\n",
    "        sources=[],\n",
    "        reconcile_ephyviewer_edits=True,\n",
    "        simplify=True,\n",
    "    )\n",
    "    d1lp_hg = wet.shared.get_day1_light_period_hypnogram(\n",
    "        lib_hg, experiment, sglx_subject\n",
    "    )\n",
    "\n",
    "    ewk_hg = hypnograms.get_extended_wake_hypnogram(lib_hg, experiment, sglx_subject)\n",
    "    pdd2lp_hg = hypnograms.get_post_deprivation_day2_light_period_hypnogram(\n",
    "        lib_hg,\n",
    "        experiment,\n",
    "        sglx_subject,\n",
    "        sleep_deprivation_end=ewk_hg[\"end_time\"].max(),\n",
    "    )  # Post-deprivation day 2 light period hypnogram\n",
    "\n",
    "    _fracb = d1lp_hg.fractional_occupancy().to_frame().reset_index()\n",
    "    _fracb[\"subject\"] = sglx_subject.name\n",
    "    _fracb[\"experiment\"] = experiment\n",
    "    _fracb[\"day\"] = \"Baseline\"\n",
    "\n",
    "    _fracr = pdd2lp_hg.fractional_occupancy().to_frame().reset_index()\n",
    "    _fracr[\"subject\"] = sglx_subject.name\n",
    "    _fracr[\"experiment\"] = experiment\n",
    "    _fracr[\"day\"] = \"Recovery\"\n",
    "\n",
    "    frac = pd.concat([frac, _fracb, _fracr], axis=0, ignore_index=True)\n",
    "\n",
    "    d1lp_hg[\"subject\"] = sglx_subject.name\n",
    "    d1lp_hg[\"experiment\"] = experiment\n",
    "    d1lp_hg[\"day\"] = \"Baseline\"\n",
    "\n",
    "    pdd2lp_hg[\"subject\"] = sglx_subject.name\n",
    "    pdd2lp_hg[\"experiment\"] = experiment\n",
    "    pdd2lp_hg[\"day\"] = \"Recovery\"\n",
    "\n",
    "    hg = pd.concat([hg, d1lp_hg, pdd2lp_hg], axis=0, ignore_index=True)\n",
    "\n",
    "    d1lp_df = bout_duration_ecdfs_to_df(get_bout_duration_ecdfs(d1lp_hg))\n",
    "    d1lp_df[\"subject\"] = sglx_subject.name\n",
    "    d1lp_df[\"experiment\"] = experiment\n",
    "    d1lp_df[\"day\"] = \"Baseline\"\n",
    "\n",
    "    pdd2lp_df = bout_duration_ecdfs_to_df(get_bout_duration_ecdfs(pdd2lp_hg))\n",
    "    pdd2lp_df[\"subject\"] = sglx_subject.name\n",
    "    pdd2lp_df[\"experiment\"] = experiment\n",
    "    pdd2lp_df[\"day\"] = \"Recovery\"\n",
    "\n",
    "    ecdf = pd.concat([ecdf, d1lp_df, pdd2lp_df], axis=0, ignore_index=True)"
   ]
  },
  {
   "cell_type": "code",
   "execution_count": 5,
   "metadata": {},
   "outputs": [],
   "source": [
    "for df in [ecdf, hg, frac]:\n",
    "    df[\"experiment\"] = df[\"experiment\"].map(experiment_display_names)"
   ]
  },
  {
   "cell_type": "code",
   "execution_count": 6,
   "metadata": {},
   "outputs": [],
   "source": [
    "# Eugene is missing too much data during periods covered here, too unevenly distributed, to include.\n",
    "frac = frac[frac[\"subject\"] != \"CNPIX6-Eugene\"]\n",
    "hg = hg[hg[\"subject\"] != \"CNPIX6-Eugene\"]\n",
    "ecdf = ecdf[ecdf[\"subject\"] != \"CNPIX6-Eugene\"]"
   ]
  },
  {
   "cell_type": "code",
   "execution_count": 7,
   "metadata": {},
   "outputs": [],
   "source": [
    "KEEP_STATES = [\"NREM\", \"IS\", \"REM\", \"Wake\", \"MA\"]\n",
    "frac = frac[frac[\"state\"].isin(KEEP_STATES)]\n",
    "frac.rename(columns={\"duration\": \"fractional_occupancy\"}, inplace=True)\n",
    "fracc = frac[\n",
    "    frac[\"subject\"].apply(\n",
    "        lambda s: (Exps.NOD in core.MANIFEST[s]) and (Exps.COW in core.MANIFEST[s])\n",
    "    )\n",
    "]\n",
    "\n",
    "hg = hg[hg[\"state\"].isin(KEEP_STATES)]\n",
    "hgc = hg[\n",
    "    hg[\"subject\"].apply(\n",
    "        lambda s: (Exps.NOD in core.MANIFEST[s]) and (Exps.COW in core.MANIFEST[s])\n",
    "    )\n",
    "]\n",
    "\n",
    "ecdf = ecdf[ecdf[\"state\"].isin(KEEP_STATES)]\n",
    "ecdfc = ecdf[\n",
    "    ecdf[\"subject\"].apply(\n",
    "        lambda s: (Exps.NOD in core.MANIFEST[s]) and (Exps.COW in core.MANIFEST[s])\n",
    "    )\n",
    "]"
   ]
  },
  {
   "cell_type": "code",
   "execution_count": 8,
   "metadata": {},
   "outputs": [],
   "source": [
    "nb = core.get_project(\"seahorse\")\n",
    "frac.to_parquet(nb.get_project_file(\"sleep_period_fractional_occupancy.pqt\"))\n",
    "hg.to_parquet(nb.get_project_file(\"sleep_period_bouts.pqt\"))\n",
    "ecdf.to_parquet(nb.get_project_file(\"sleep_period_bout_duration_ecdfs.pqt\"))"
   ]
  }
 ],
 "metadata": {
  "kernelspec": {
   "display_name": ".venv",
   "language": "python",
   "name": "python3"
  },
  "language_info": {
   "codemirror_mode": {
    "name": "ipython",
    "version": 3
   },
   "file_extension": ".py",
   "mimetype": "text/x-python",
   "name": "python",
   "nbconvert_exporter": "python",
   "pygments_lexer": "ipython3",
   "version": "3.13.2"
  }
 },
 "nbformat": 4,
 "nbformat_minor": 2
}
