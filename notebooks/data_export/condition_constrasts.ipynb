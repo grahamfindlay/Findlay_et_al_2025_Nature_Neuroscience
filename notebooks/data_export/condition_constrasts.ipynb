{
 "cells": [
  {
   "cell_type": "code",
   "execution_count": 1,
   "metadata": {},
   "outputs": [],
   "source": [
    "import numpy as np\n",
    "import pandas as pd\n",
    "\n",
    "from findlay2025a import core\n",
    "from findlay2025a.constants import Experiments as Exps\n",
    "from findlay2025a.constants import Files"
   ]
  },
  {
   "cell_type": "code",
   "execution_count": 2,
   "metadata": {},
   "outputs": [],
   "source": [
    "experiment_display_names = {\n",
    "    Exps.NOD: \"Novelty\",\n",
    "    Exps.COW: \"Locomotion\",\n",
    "    Exps.CTN: \"Dual\",\n",
    "}\n",
    "\n",
    "exclusions = [\n",
    "    (\"CNPIX5-Alessandro\", Exps.NOD, (\"ext_wake_incline\",)),\n",
    "    (\"CNPIX6-Eugene\", Exps.NOD, (\"rebound\", \"bsl_decline\", \"ext_wake_incline\")),\n",
    "    (\"CNPIX10-Charles\", Exps.NOD, (\"ext_wake_incline\",)),\n",
    "    (\"CNPIX11-Adrian\", Exps.NOD, (\"ext_wake_incline\",)),\n",
    "    (\"CNPIX11-Adrian\", Exps.COW, (\"ext_wake_incline\",)),\n",
    "    (\"CNPIX17-Hans\", Exps.COW, (\"ext_wake_incline\",)),\n",
    "]\n",
    "\n",
    "contrast_display_names = {\n",
    "    \"cx_mean_zlog_delta_nrem_rebound\": \"Cortical SWA Rebound\",\n",
    "    \"cx_mean_zlog_delta_nrem_rec_decline\": \"Cortical SWA Decline\",\n",
    "    \"spw_rate_rel2total_nrem_rebound\": \"SPW Rate Rebound\",\n",
    "    \"spw_rate_rel2total_nrem_rec_decline\": \"SPW Rate Decline\",\n",
    "    \"spw_mean_zlog_amp_nrem_rebound\": \"SPW Amplitude Rebound\",\n",
    "    \"spw_mean_zlog_amp_nrem_rec_decline\": \"SPW Amplitude Decline\",\n",
    "    \"ripple_rate_rel2total_nrem_rebound\": \"Ripple Rate Rebound\",\n",
    "    \"ripple_rate_rel2total_nrem_rec_decline\": \"Ripple Rate Decline\",\n",
    "    \"ripple_mean_zfreq_nrem_rebound\": \"Ripple Frequency Rebound\",\n",
    "    \"ripple_mean_zfreq_nrem_rec_decline\": \"Ripple Frequency Decline\",\n",
    "    \"dspk_mean_zlog_height_nrem_rebound\": \"DSPK Amplitude Rebound\",\n",
    "    \"dspk_mean_zlog_height_nrem_rec_decline\": \"DSPK Amplitude Decline\",\n",
    "}"
   ]
  },
  {
   "cell_type": "code",
   "execution_count": 3,
   "metadata": {},
   "outputs": [],
   "source": [
    "def apply_exclusions(df: pd.DataFrame) -> pd.DataFrame:\n",
    "    essential_cols = [\"subject\", \"experiment\"]\n",
    "    assert all(col in df.columns for col in essential_cols), (\n",
    "        f\"Missing one or more essential columns: {essential_cols}\"\n",
    "    )\n",
    "\n",
    "    for sub, exp, conds in exclusions:\n",
    "        cols = [\n",
    "            col for col in df.columns if any(cond in col for cond in conds)\n",
    "        ]  # Columns whose values to drop\n",
    "        rows = (df[\"subject\"] == sub) & (df[\"experiment\"] == exp)\n",
    "        df.loc[rows, cols] = np.NaN\n",
    "\n",
    "    return df\n",
    "\n",
    "\n",
    "def use_display_names(df: pd.DataFrame, minimize: bool = True) -> pd.DataFrame:\n",
    "    essential_cols = [\"subject\", \"experiment\"]\n",
    "    assert all(col in df.columns for col in essential_cols), (\n",
    "        f\"Missing one or more essential columns: {essential_cols}\"\n",
    "    )\n",
    "\n",
    "    if minimize:\n",
    "        df = df.loc[:, essential_cols + list(contrast_display_names)]\n",
    "\n",
    "    df[\"experiment\"] = df[\"experiment\"].map(experiment_display_names)\n",
    "    df.rename(columns=contrast_display_names, inplace=True)\n",
    "\n",
    "    return df\n",
    "\n",
    "\n",
    "def get_essential_contrasts() -> pd.DataFrame:\n",
    "    nb = core.get_project(\"seahorse\")\n",
    "    df = pd.read_parquet(\n",
    "        nb.get_project_file(Files.COMBINED_CONDITION_CONTRASTS)\n",
    "    ).reset_index()\n",
    "    return use_display_names(apply_exclusions(df))"
   ]
  },
  {
   "cell_type": "code",
   "execution_count": 4,
   "metadata": {},
   "outputs": [],
   "source": [
    "nb = core.get_project(\"seahorse\")\n",
    "df = get_essential_contrasts()\n",
    "df.to_parquet(nb.get_project_file(\"condition_contrasts.pqt\"))"
   ]
  }
 ],
 "metadata": {
  "kernelspec": {
   "display_name": ".venv",
   "language": "python",
   "name": "python3"
  },
  "language_info": {
   "codemirror_mode": {
    "name": "ipython",
    "version": 3
   },
   "file_extension": ".py",
   "mimetype": "text/x-python",
   "name": "python",
   "nbconvert_exporter": "python",
   "pygments_lexer": "ipython3",
   "version": "3.13.2"
  },
  "orig_nbformat": 4
 },
 "nbformat": 4,
 "nbformat_minor": 2
}
