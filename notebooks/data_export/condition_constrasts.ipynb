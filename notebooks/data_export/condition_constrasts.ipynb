{
 "cells": [
  {
   "cell_type": "code",
   "execution_count": 1,
   "metadata": {},
   "outputs": [],
   "source": [
    "import numpy as np\n",
    "import pandas as pd\n",
    "\n",
    "from findlay2025a import core\n",
    "from findlay2025a.constants import Experiments as Exps\n",
    "from findlay2025a.constants import Files"
   ]
  },
  {
   "cell_type": "code",
   "execution_count": 2,
   "metadata": {},
   "outputs": [],
   "source": [
    "exclusions = [\n",
    "    (\"CNPIX5-Alessandro\", Exps.NOD, (\"ext_wake_incline\", \"ext_incline\")),\n",
    "    (\n",
    "        \"CNPIX6-Eugene\",\n",
    "        Exps.NOD,\n",
    "        (\"rebound\", \"bsl_decline\", \"ext_wake_incline\", \"ext_incline\"),\n",
    "    ),\n",
    "    (\"CNPIX10-Charles\", Exps.NOD, (\"ext_wake_incline\", \"ext_incline\")),\n",
    "    (\"CNPIX11-Adrian\", Exps.NOD, (\"ext_wake_incline\", \"ext_incline\")),\n",
    "    (\"CNPIX11-Adrian\", Exps.COW, (\"ext_wake_incline\", \"ext_incline\")),\n",
    "    (\"CNPIX17-Hans\", Exps.COW, (\"ext_wake_incline\", \"ext_incline\")),\n",
    "]\n",
    "\n",
    "contrast_display_names = {\n",
    "    # Rebound\n",
    "    \"cx_mean_zlog_delta_nrem_rebound\": \"Cortical.SWA.Rebound\",\n",
    "    \"spw_rate_rel2total_nrem_rebound\": \"SPW.Rate.Rebound\",\n",
    "    \"spw_mean_zlog_amp_nrem_rebound\": \"SPW.Amplitude.Rebound\",\n",
    "    \"ripple_rate_rel2total_nrem_rebound\": \"Ripple.Rate.Rebound\",\n",
    "    \"ripple_mean_zfreq_nrem_rebound\": \"Ripple.Frequency.Rebound\",\n",
    "    \"dspk_mean_zlog_height_nrem_rebound\": \"DSPK.Amplitude.Rebound\",\n",
    "    # Recovery Decline\n",
    "    \"cx_mean_zlog_delta_nrem_rec_decline\": \"Cortical.SWA.REC.Decline\",\n",
    "    \"spw_rate_rel2total_nrem_rec_decline\": \"SPW.Rate.REC.Decline\",\n",
    "    \"spw_mean_zlog_amp_nrem_rec_decline\": \"SPW.Amplitude.REC.Decline\",\n",
    "    \"ripple_rate_rel2total_nrem_rec_decline\": \"Ripple.Rate.REC.Decline\",\n",
    "    \"ripple_mean_zfreq_nrem_rec_decline\": \"Ripple.Frequency.REC.Decline\",\n",
    "    \"dspk_mean_zlog_height_nrem_rec_decline\": \"DSPK.Amplitude.REC.Decline\",\n",
    "    # Surge\n",
    "    \"cx_mean_zlog_delta_nrem_surge\": \"Cortical.SWA.Surge\",\n",
    "    \"spw_rate_rel2total_nrem_surge\": \"SPW.Rate.Surge\",\n",
    "    \"spw_mean_zlog_amp_nrem_surge\": \"SPW.Amplitude.Surge\",\n",
    "    \"ripple_rate_rel2total_nrem_surge\": \"Ripple.Rate.Surge\",\n",
    "    \"ripple_mean_zlog_duration_nrem_surge\": \"Ripple.Duration.Surge\",\n",
    "    \"ripple_mean_zfreq_nrem_surge\": \"Ripple.Frequency.Surge\",\n",
    "    \"dspk_mean_zlog_height_nrem_surge\": \"DSPK.Amplitude.Surge\",\n",
    "    \"dspk_rate_rel2total_nrem_surge\": \"DSPK.Rate.Surge\",\n",
    "    # Baseline Decline\n",
    "    \"cx_mean_zlog_delta_nrem_bsl_decline\": \"Cortical.SWA.BSL.Decline\",\n",
    "    \"spw_rate_rel2total_nrem_bsl_decline\": \"SPW.Rate.BSL.Decline\",\n",
    "    \"spw_mean_zlog_amp_nrem_bsl_decline\": \"SPW.Amplitude.BSL.Decline\",\n",
    "    \"ripple_rate_rel2total_nrem_bsl_decline\": \"Ripple.Rate.BSL.Decline\",\n",
    "    \"ripple_mean_zfreq_nrem_bsl_decline\": \"Ripple.Frequency.BSL.Decline\",\n",
    "    \"dspk_mean_zlog_height_nrem_bsl_decline\": \"DSPK.Amplitude.BSL.Decline\",\n",
    "    \"dspk_rate_rel2total_nrem_bsl_decline\": \"DSPK.Rate.BSL.Decline\",\n",
    "}"
   ]
  },
  {
   "cell_type": "code",
   "execution_count": 3,
   "metadata": {},
   "outputs": [],
   "source": [
    "def apply_exclusions(df: pd.DataFrame) -> pd.DataFrame:\n",
    "    essential_cols = [\"subject\", \"experiment\"]\n",
    "    assert all(col in df.columns for col in essential_cols), (\n",
    "        f\"Missing one or more essential columns: {essential_cols}\"\n",
    "    )\n",
    "\n",
    "    for sub, exp, conds in exclusions:\n",
    "        cols = [\n",
    "            col for col in df.columns if any(cond in col for cond in conds)\n",
    "        ]  # Columns whose values to drop\n",
    "        rows = (df[\"subject\"] == sub) & (df[\"experiment\"] == exp)\n",
    "        df.loc[rows, cols] = np.nan\n",
    "\n",
    "    return df\n",
    "\n",
    "\n",
    "def use_display_names(df: pd.DataFrame, minimize: bool = True) -> pd.DataFrame:\n",
    "    essential_cols = [\"subject\", \"experiment\"]\n",
    "    assert all(col in df.columns for col in essential_cols), (\n",
    "        f\"Missing one or more essential columns: {essential_cols}\"\n",
    "    )\n",
    "\n",
    "    if minimize:\n",
    "        df = df.loc[:, essential_cols + list(contrast_display_names)]\n",
    "\n",
    "    df[\"experiment\"] = df[\"experiment\"].map(core.EXPERIMENT_DISPLAY_NAMES)\n",
    "    df.rename(columns=contrast_display_names, inplace=True)\n",
    "\n",
    "    return df\n",
    "\n",
    "\n",
    "def get_essential_contrasts() -> pd.DataFrame:\n",
    "    nb = core.get_project(\"seahorse\")\n",
    "    df = pd.read_parquet(\n",
    "        nb.get_project_file(Files.COMBINED_CONDITION_CONTRASTS)\n",
    "    ).reset_index()\n",
    "    return use_display_names(apply_exclusions(df))"
   ]
  },
  {
   "cell_type": "code",
   "execution_count": 4,
   "metadata": {},
   "outputs": [],
   "source": [
    "nb = core.get_project(\"seahorse\")\n",
    "df = get_essential_contrasts()\n",
    "df.to_parquet(nb.get_project_file(Files.EXPORTED_CONDITION_CONTRASTS))"
   ]
  },
  {
   "cell_type": "code",
   "execution_count": null,
   "metadata": {},
   "outputs": [],
   "source": []
  }
 ],
 "metadata": {
  "kernelspec": {
   "display_name": ".venv",
   "language": "python",
   "name": "python3"
  },
  "language_info": {
   "codemirror_mode": {
    "name": "ipython",
    "version": 3
   },
   "file_extension": ".py",
   "mimetype": "text/x-python",
   "name": "python",
   "nbconvert_exporter": "python",
   "pygments_lexer": "ipython3",
   "version": "3.13.2"
  },
  "orig_nbformat": 4
 },
 "nbformat": 4,
 "nbformat_minor": 2
}
