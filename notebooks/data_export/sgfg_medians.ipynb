{
 "cells": [
  {
   "cell_type": "code",
   "execution_count": 1,
   "metadata": {},
   "outputs": [],
   "source": [
    "import numpy as np\n",
    "import pandas as pd\n",
    "import xarray as xr\n",
    "\n",
    "from findlay2025a import core, hypnograms, sharp_waves\n",
    "from findlay2025a.constants import Experiments as Exps\n"
   ]
  },
  {
   "cell_type": "code",
   "execution_count": 2,
   "metadata": {},
   "outputs": [],
   "source": [
    "nb = core.get_project(\"seahorse\")\n",
    "s3 = core.get_project(\"shared\")\n",
    "\n",
    "\n",
    "def aggregate_sgfg(experiments=[Exps.NOD, Exps.COW, Exps.CTN]):\n",
    "    df = pd.DataFrame()\n",
    "    for subject, experiment in core.yield_subject_name_experiment_pairs(experiments):\n",
    "        sg = xr.load_dataarray(\n",
    "            nb.get_experiment_subject_file(\n",
    "                experiment, subject, \"AeryJones_slow_gamma.nc\"\n",
    "            )\n",
    "        )\n",
    "        fg = xr.load_dataarray(\n",
    "            nb.get_experiment_subject_file(\n",
    "                experiment, subject, \"AeryJones_fast_gamma.nc\"\n",
    "            )\n",
    "        )\n",
    "        ds = xr.Dataset({\"Slow.Gamma\": sg, \"Fast.Gamma\": fg})\n",
    "        ds[\"Slow.Fast.Gamma.Ratio\"] = ds[\"Slow.Gamma\"] / ds[\"Fast.Gamma\"]\n",
    "\n",
    "        # Rename coordinates for cleaner plots.\n",
    "        ds = ds.rename({\"roi\": \"ROI\", \"time\": \"Time\"})\n",
    "\n",
    "        # Add state as a coordinate on the time dimension of sgfg\n",
    "        hgs = hypnograms.load_statistical_condition_hypnograms(\n",
    "            experiment, subject, include_full_conservative=True\n",
    "        )\n",
    "        hg = hgs.pop(\"full_conservative\").drop_states(core.ARTIFACT_STATES + [\"NoData\"])\n",
    "        states = hg.get_states(ds[\"Time\"].values)\n",
    "        ds = ds.assign_coords({\"State\": (\"Time\", states)})\n",
    "\n",
    "        # Add number of SPWs as a coordinate on the time dimension of sgfg\n",
    "        spws = sharp_waves.read_spws(subject, experiment)\n",
    "        spws = spws.iloc[hg.covers_time(spws[\"pk_time\"])]\n",
    "        nspw = np.zeros_like(ds[\"Time\"].values)\n",
    "        nt = ds[\"Time\"].values.size\n",
    "        for i in np.searchsorted(ds[\"Time\"].values, spws[\"pk_time\"].values):\n",
    "            nspw[min(i, nt - 1)] += 1\n",
    "        ds = ds.assign_coords({\"SPW.Count\": (\"Time\", nspw)})\n",
    "\n",
    "        # Convert to dataframe\n",
    "        _df = ds.to_dataframe().reset_index()[\n",
    "            [\n",
    "                \"Time\",\n",
    "                \"Slow.Gamma\",\n",
    "                \"Fast.Gamma\",\n",
    "                \"Slow.Fast.Gamma.Ratio\",\n",
    "                \"SPW.Count\",\n",
    "                \"State\",\n",
    "                \"ROI\",\n",
    "            ]\n",
    "        ]\n",
    "        _df[\"Subject\"] = subject\n",
    "        _df[\"Experiment\"] = experiment\n",
    "\n",
    "        # Keep only Wake and NREM states\n",
    "        _df = _df[_df[\"State\"].isin([\"Wake\", \"NREM\"])]\n",
    "\n",
    "        df = pd.concat([df, _df], axis=0, ignore_index=True)\n",
    "    return df"
   ]
  },
  {
   "cell_type": "code",
   "execution_count": 3,
   "metadata": {},
   "outputs": [
    {
     "name": "stderr",
     "output_type": "stream",
     "text": [
      "<frozen importlib._bootstrap>:488: RuntimeWarning: numpy.ndarray size changed, may indicate binary incompatibility. Expected 16 from C header, got 96 from PyObject\n"
     ]
    }
   ],
   "source": [
    "df = aggregate_sgfg()\n",
    "experiment_display_names = {\n",
    "    Exps.NOD: \"Novelty\",\n",
    "    Exps.COW: \"Locomotion\",\n",
    "    Exps.CTN: \"Dual\",\n",
    "}\n",
    "df[\"Experiment\"] = df[\"Experiment\"].map(experiment_display_names)\n",
    "\n",
    "has_spw = df[\"SPW.Count\"] > 0\n",
    "is_wake = df[\"State\"] == \"Wake\"\n",
    "is_nrem = df[\"State\"] == \"NREM\"\n",
    "\n",
    "df.loc[is_wake & has_spw, \"Epoch.Type\"] = \"SPW.Wake\"\n",
    "df.loc[is_wake & ~has_spw, \"Epoch.Type\"] = \"No.SPW.Wake\"\n",
    "df.loc[is_nrem & has_spw, \"Epoch.Type\"] = \"SPW.NREM\"\n",
    "df.loc[is_nrem & ~has_spw, \"Epoch.Type\"] = \"No.SPW.NREM\"\n",
    "df.to_parquet(nb.get_project_file(\"AeryJones_sgfg.pqt\"))"
   ]
  },
  {
   "cell_type": "code",
   "execution_count": 5,
   "metadata": {},
   "outputs": [],
   "source": [
    "sgfg_medians_by_epoch_type = (\n",
    "    df.groupby([\"Subject\", \"Experiment\", \"ROI\", \"Epoch.Type\"])[\n",
    "        [\"Slow.Fast.Gamma.Ratio\", \"Slow.Gamma\", \"Fast.Gamma\"]\n",
    "    ]\n",
    "    .median()\n",
    "    .reset_index()\n",
    ")\n",
    "sgfg_medians_by_epoch_type.to_parquet(\n",
    "    nb.get_project_file(\n",
    "        \"AeryJones_sgfg_medians_by_epoch_type.pqt\"\n",
    "    )\n",
    ")"
   ]
  },
  {
   "cell_type": "code",
   "execution_count": null,
   "metadata": {},
   "outputs": [],
   "source": []
  }
 ],
 "metadata": {
  "kernelspec": {
   "display_name": ".venv",
   "language": "python",
   "name": "python3"
  },
  "language_info": {
   "codemirror_mode": {
    "name": "ipython",
    "version": 3
   },
   "file_extension": ".py",
   "mimetype": "text/x-python",
   "name": "python",
   "nbconvert_exporter": "python",
   "pygments_lexer": "ipython3",
   "version": "3.13.2"
  },
  "orig_nbformat": 4
 },
 "nbformat": 4,
 "nbformat_minor": 2
}
