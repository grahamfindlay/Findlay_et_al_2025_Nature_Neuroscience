{
 "cells": [
  {
   "cell_type": "code",
   "execution_count": 1,
   "id": "53e5ee3e",
   "metadata": {},
   "outputs": [],
   "source": [
    "import pathlib\n",
    "\n",
    "import numpy as np\n",
    "import pandas as pd\n",
    "import wisc_ecephys_tools as wet"
   ]
  },
  {
   "cell_type": "code",
   "execution_count": 2,
   "id": "deb49f95",
   "metadata": {},
   "outputs": [],
   "source": [
    "condition_display_names = {\n",
    "    \"early_bsl_nrem\": \"Early.BSL.NREM\",\n",
    "    \"early_rec_nrem_match\": \"Late.BSL.NREM\",\n",
    "    \"early_ext_wake\": \"Early.EXT.Wake\",\n",
    "    \"late_ext_wake\": \"Late.EXT.Wake\",\n",
    "    \"early_rec_nrem\": \"Early.REC.NREM\",\n",
    "    \"late_rec_nrem\": \"Late.REC.NREM\",\n",
    "}\n",
    "\n",
    "measure_display_names = {\n",
    "    \"firing_rate\": \"Firing.Rate\",\n",
    "    \"on_firing_rate\": \"ON.Firing.Rate\",\n",
    "}\n",
    "\n",
    "\n",
    "def use_display_names(df: pd.DataFrame, minimize: bool = True) -> pd.DataFrame:\n",
    "    essential_cols = [\n",
    "        \"subject\",\n",
    "        \"probe\",\n",
    "        \"cluster_id\",\n",
    "        \"region\",\n",
    "        \"petersen_cell_type\",\n",
    "        \"condition\",\n",
    "    ]\n",
    "    assert all(col in df.columns for col in essential_cols), (\n",
    "        f\"Missing one or more essential columns: {essential_cols}\"\n",
    "    )\n",
    "\n",
    "    if minimize:\n",
    "        df = df[df[\"condition\"].isin(condition_display_names)]\n",
    "        df = df[essential_cols + list(measure_display_names)]\n",
    "\n",
    "    df[\"condition\"] = df[\"condition\"].map(condition_display_names)\n",
    "    df.rename(columns=measure_display_names, inplace=True)\n",
    "\n",
    "    return df.reset_index(drop=True)"
   ]
  },
  {
   "cell_type": "code",
   "execution_count": null,
   "id": "2fccf4de",
   "metadata": {},
   "outputs": [],
   "source": [
    "nbsh = wet.get_sglx_project(\"seahorse\")\n",
    "df = pd.read_parquet(nbsh.get_project_file(\"estm_on_frs.with_meta.sua_moderate.pqt\"))\n",
    "df = use_display_names(df)\n",
    "df = df[df[\"Firing.Rate\"] > 0]\n",
    "df[\"Log.Firing.Rate\"] = np.log10(df[\"Firing.Rate\"])\n",
    "df[\"Log.ON.Firing.Rate\"] = np.log10(df[\"ON.Firing.Rate\"])\n",
    "df[\"Sqrt.Firing.Rate\"] = np.sqrt(df[\"Firing.Rate\"])\n",
    "df[\"Sqrt.ON.Firing.Rate\"] = np.sqrt(df[\"ON.Firing.Rate\"])\n",
    "\n",
    "savepath = pathlib.Path(\"../../r/f25a/inst/extdata/firing_rates.pqt\")\n",
    "assert savepath.parent.exists()\n",
    "df.to_parquet(savepath)"
   ]
  }
 ],
 "metadata": {
  "kernelspec": {
   "display_name": ".venv",
   "language": "python",
   "name": "python3"
  },
  "language_info": {
   "codemirror_mode": {
    "name": "ipython",
    "version": 3
   },
   "file_extension": ".py",
   "mimetype": "text/x-python",
   "name": "python",
   "nbconvert_exporter": "python",
   "pygments_lexer": "ipython3",
   "version": "3.13.2"
  }
 },
 "nbformat": 4,
 "nbformat_minor": 5
}
