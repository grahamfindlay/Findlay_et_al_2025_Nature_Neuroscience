{
 "cells": [
  {
   "cell_type": "code",
   "execution_count": 1,
   "metadata": {},
   "outputs": [
    {
     "name": "stderr",
     "output_type": "stream",
     "text": [
      "/home/gfindlay/projects/ece/gfys_workspace/.venv/lib/python3.13/site-packages/umap/__init__.py:9: ImportWarning: Tensorflow not installed; ParametricUMAP will be unavailable\n",
      "  warn(\n"
     ]
    }
   ],
   "source": [
    "import ecephys\n",
    "import findlay2025a as f25a\n",
    "import wisc_ecephys_tools as wet"
   ]
  },
  {
   "cell_type": "code",
   "execution_count": null,
   "metadata": {},
   "outputs": [],
   "source": [
    "s3 = wet.get_sglx_project(\"shared\")\n",
    "nbsh = wet.get_sglx_project(\"seahorse\")\n",
    "experiment = wet.rats.constants.SleepDeprivationExperiments.NOD\n",
    "sortings = f25a.units.get_nod_sortings()\n",
    "threshold_kwargs = f25a.units.get_threshold_kwargs()[\"mua\"]\n",
    "states = [\"Wake\", \"NREM\", \"REM\", \"IS\"]\n",
    "WINDOWS_MS = {\"narrow\": 100, \"wide\": 1000}\n",
    "BINS_MS = {\"narrow\": 0.5, \"wide\": 5}"
   ]
  },
  {
   "cell_type": "code",
   "execution_count": null,
   "metadata": {},
   "outputs": [
    {
     "name": "stdout",
     "output_type": "stream",
     "text": [
      "quality: {'mua', 'good', nan} excludes 194 clusters.\n",
      "firing_rate: (0.5, inf) excludes 98 clusters.\n",
      "205/280 clusters excluded by jointly applying filters. 75 remain.\n"
     ]
    },
    {
     "name": "stderr",
     "output_type": "stream",
     "text": [
      "Loading trains by cluster_id: 100%|██████████| 75/75 [00:34<00:00,  2.20it/s]\n"
     ]
    },
    {
     "name": "stdout",
     "output_type": "stream",
     "text": [
      "quality: {'mua', 'good', nan} excludes 399 clusters.\n",
      "firing_rate: (0.5, inf) excludes 582 clusters.\n",
      "610/902 clusters excluded by jointly applying filters. 292 remain.\n"
     ]
    },
    {
     "name": "stderr",
     "output_type": "stream",
     "text": [
      "Loading trains by cluster_id: 100%|██████████| 292/292 [02:27<00:00,  1.98it/s]\n"
     ]
    },
    {
     "name": "stdout",
     "output_type": "stream",
     "text": [
      "quality: {'mua', 'good', nan} excludes 47 clusters.\n",
      "firing_rate: (0.5, inf) excludes 107 clusters.\n",
      "122/326 clusters excluded by jointly applying filters. 204 remain.\n",
      "quality: {'mua', 'good', nan} excludes 224 clusters.\n",
      "firing_rate: (0.5, inf) excludes 253 clusters.\n",
      "332/855 clusters excluded by jointly applying filters. 523 remain.\n"
     ]
    },
    {
     "name": "stderr",
     "output_type": "stream",
     "text": [
      "Loading trains by cluster_id: 100%|██████████| 727/727 [05:34<00:00,  2.18it/s]\n"
     ]
    },
    {
     "name": "stdout",
     "output_type": "stream",
     "text": [
      "quality: {'mua', 'good', nan} excludes 17 clusters.\n",
      "firing_rate: (0.5, inf) excludes 32 clusters.\n",
      "42/245 clusters excluded by jointly applying filters. 203 remain.\n"
     ]
    },
    {
     "name": "stderr",
     "output_type": "stream",
     "text": [
      "Loading trains by cluster_id: 100%|██████████| 203/203 [01:04<00:00,  3.15it/s]\n"
     ]
    },
    {
     "name": "stdout",
     "output_type": "stream",
     "text": [
      "quality: {'mua', 'good', nan} excludes 47 clusters.\n",
      "firing_rate: (0.5, inf) excludes 62 clusters.\n",
      "78/270 clusters excluded by jointly applying filters. 192 remain.\n",
      "quality: {'mua', 'good', nan} excludes 9 clusters.\n",
      "firing_rate: (0.5, inf) excludes 15 clusters.\n",
      "20/61 clusters excluded by jointly applying filters. 41 remain.\n"
     ]
    },
    {
     "name": "stderr",
     "output_type": "stream",
     "text": [
      "Loading trains by cluster_id: 100%|██████████| 233/233 [01:04<00:00,  3.59it/s]\n"
     ]
    },
    {
     "name": "stdout",
     "output_type": "stream",
     "text": [
      "quality: {'mua', 'good', nan} excludes 682 clusters.\n",
      "firing_rate: (0.5, inf) excludes 935 clusters.\n",
      "976/1607 clusters excluded by jointly applying filters. 631 remain.\n"
     ]
    },
    {
     "name": "stderr",
     "output_type": "stream",
     "text": [
      "Loading trains by cluster_id: 100%|██████████| 631/631 [04:03<00:00,  2.60it/s]\n"
     ]
    },
    {
     "name": "stdout",
     "output_type": "stream",
     "text": [
      "quality: {'mua', 'good', nan} excludes 72 clusters.\n",
      "firing_rate: (0.5, inf) excludes 9 clusters.\n",
      "75/146 clusters excluded by jointly applying filters. 71 remain.\n"
     ]
    },
    {
     "name": "stderr",
     "output_type": "stream",
     "text": [
      "Loading trains by cluster_id: 100%|██████████| 71/71 [00:14<00:00,  4.91it/s]\n"
     ]
    },
    {
     "name": "stdout",
     "output_type": "stream",
     "text": [
      "quality: {'mua', 'good', nan} excludes 98 clusters.\n",
      "firing_rate: (0.5, inf) excludes 149 clusters.\n",
      "182/553 clusters excluded by jointly applying filters. 371 remain.\n",
      "quality: {'mua', 'good', nan} excludes 138 clusters.\n",
      "firing_rate: (0.5, inf) excludes 85 clusters.\n",
      "161/291 clusters excluded by jointly applying filters. 130 remain.\n"
     ]
    },
    {
     "name": "stderr",
     "output_type": "stream",
     "text": [
      "Loading trains by cluster_id: 100%|██████████| 501/501 [02:40<00:00,  3.12it/s]\n"
     ]
    },
    {
     "name": "stdout",
     "output_type": "stream",
     "text": [
      "quality: {'mua', 'good', nan} excludes 165 clusters.\n",
      "firing_rate: (0.5, inf) excludes 176 clusters.\n",
      "200/360 clusters excluded by jointly applying filters. 160 remain.\n",
      "quality: {'mua', 'good', nan} excludes 52 clusters.\n",
      "firing_rate: (0.5, inf) excludes 44 clusters.\n",
      "71/186 clusters excluded by jointly applying filters. 115 remain.\n"
     ]
    },
    {
     "name": "stderr",
     "output_type": "stream",
     "text": [
      "Loading trains by cluster_id: 100%|██████████| 275/275 [01:22<00:00,  3.32it/s]\n"
     ]
    },
    {
     "name": "stdout",
     "output_type": "stream",
     "text": [
      "quality: {'mua', 'good', nan} excludes 67 clusters.\n",
      "firing_rate: (0.5, inf) excludes 140 clusters.\n",
      "157/484 clusters excluded by jointly applying filters. 327 remain.\n",
      "quality: {'mua', 'good', nan} excludes 84 clusters.\n",
      "firing_rate: (0.5, inf) excludes 65 clusters.\n",
      "122/342 clusters excluded by jointly applying filters. 220 remain.\n"
     ]
    },
    {
     "name": "stderr",
     "output_type": "stream",
     "text": [
      "Loading trains by cluster_id: 100%|██████████| 547/547 [04:22<00:00,  2.09it/s]\n"
     ]
    },
    {
     "name": "stdout",
     "output_type": "stream",
     "text": [
      "quality: {'mua', 'good', nan} excludes 25 clusters.\n",
      "firing_rate: (0.5, inf) excludes 161 clusters.\n",
      "172/414 clusters excluded by jointly applying filters. 242 remain.\n"
     ]
    },
    {
     "name": "stderr",
     "output_type": "stream",
     "text": [
      "Loading trains by cluster_id: 100%|██████████| 242/242 [02:56<00:00,  1.37it/s]\n"
     ]
    },
    {
     "name": "stdout",
     "output_type": "stream",
     "text": [
      "quality: {'mua', 'good', nan} excludes 108 clusters.\n",
      "firing_rate: (0.5, inf) excludes 185 clusters.\n",
      "209/356 clusters excluded by jointly applying filters. 147 remain.\n",
      "quality: {'mua', 'good', nan} excludes 62 clusters.\n",
      "firing_rate: (0.5, inf) excludes 45 clusters.\n",
      "86/244 clusters excluded by jointly applying filters. 158 remain.\n"
     ]
    },
    {
     "name": "stderr",
     "output_type": "stream",
     "text": [
      "Loading trains by cluster_id: 100%|██████████| 305/305 [01:35<00:00,  3.20it/s]\n"
     ]
    },
    {
     "name": "stdout",
     "output_type": "stream",
     "text": [
      "quality: {'mua', 'good', nan} excludes 69 clusters.\n",
      "firing_rate: (0.5, inf) excludes 163 clusters.\n",
      "167/252 clusters excluded by jointly applying filters. 85 remain.\n",
      "quality: {'mua', 'good', nan} excludes 31 clusters.\n",
      "firing_rate: (0.5, inf) excludes 25 clusters.\n",
      "37/154 clusters excluded by jointly applying filters. 117 remain.\n"
     ]
    },
    {
     "name": "stderr",
     "output_type": "stream",
     "text": [
      "Loading trains by cluster_id: 100%|██████████| 202/202 [01:07<00:00,  3.00it/s]\n"
     ]
    },
    {
     "name": "stdout",
     "output_type": "stream",
     "text": [
      "quality: {'mua', 'good', nan} excludes 137 clusters.\n",
      "firing_rate: (0.5, inf) excludes 82 clusters.\n",
      "157/325 clusters excluded by jointly applying filters. 168 remain.\n",
      "quality: {'mua', 'good', nan} excludes 7 clusters.\n",
      "firing_rate: (0.5, inf) excludes 2 clusters.\n",
      "7/11 clusters excluded by jointly applying filters. 4 remain.\n"
     ]
    },
    {
     "name": "stderr",
     "output_type": "stream",
     "text": [
      "Loading trains by cluster_id: 100%|██████████| 172/172 [00:57<00:00,  2.99it/s]\n"
     ]
    },
    {
     "name": "stdout",
     "output_type": "stream",
     "text": [
      "quality: {'mua', 'good', nan} excludes 19 clusters.\n",
      "firing_rate: (0.5, inf) excludes 55 clusters.\n",
      "70/281 clusters excluded by jointly applying filters. 211 remain.\n"
     ]
    },
    {
     "name": "stderr",
     "output_type": "stream",
     "text": [
      "Loading trains by cluster_id: 100%|██████████| 211/211 [01:28<00:00,  2.37it/s]\n"
     ]
    },
    {
     "name": "stdout",
     "output_type": "stream",
     "text": [
      "quality: {'mua', 'good', nan} excludes 102 clusters.\n",
      "firing_rate: (0.5, inf) excludes 82 clusters.\n",
      "125/374 clusters excluded by jointly applying filters. 249 remain.\n",
      "quality: {'mua', 'good', nan} excludes 36 clusters.\n",
      "firing_rate: (0.5, inf) excludes 17 clusters.\n",
      "39/87 clusters excluded by jointly applying filters. 48 remain.\n"
     ]
    },
    {
     "name": "stderr",
     "output_type": "stream",
     "text": [
      "Loading trains by cluster_id: 100%|██████████| 297/297 [02:24<00:00,  2.05it/s]\n"
     ]
    }
   ],
   "source": [
    "for subject, probes in sortings:\n",
    "    sglx_subject = wet.get_sglx_subject(subject)\n",
    "\n",
    "    if len(probes) > 1:\n",
    "        hgs_path = s3.get_experiment_subject_file(\n",
    "            experiment,\n",
    "            sglx_subject.name,\n",
    "            \"consensus_condition_hypnograms.parquet\",\n",
    "        )\n",
    "        assert hgs_path.is_file()\n",
    "    elif len(probes) == 1:\n",
    "        hgs_path = s3.get_experiment_subject_file(\n",
    "            experiment,\n",
    "            sglx_subject.name,\n",
    "            f\"{probes[0]}.condition_hypnograms.parquet\",\n",
    "        )\n",
    "        assert hgs_path.is_file()\n",
    "    else:\n",
    "        raise ValueError(f\"Subject {subject} has {len(probes)} probes\")\n",
    "\n",
    "    hgs = wet.rats.cnd_hgs.load_statistical_condition_hypnograms(hgs_path)\n",
    "    hg = hgs[\"full_conservative\"]\n",
    "\n",
    "    mps = f25a.units.load_nod_multiprobe_sorting(sglx_subject, **threshold_kwargs)\n",
    "    trains = mps.get_cluster_trains()\n",
    "\n",
    "    narrow_acgs = ecephys.units.compute_autocorrelograms_by_hypnogram_state(\n",
    "        trains, hg, WINDOWS_MS[\"narrow\"], BINS_MS[\"narrow\"], states=states\n",
    "    )\n",
    "    narrow_acgs.encoding[\"chunks\"] = narrow_acgs.shape\n",
    "    narrow_acgs.to_zarr(\n",
    "        nbsh.get_experiment_subject_file(\n",
    "            experiment,\n",
    "            sglx_subject.name,\n",
    "            \"narrow_autocorrelograms.zarr\",\n",
    "        )\n",
    "    )\n",
    "\n",
    "    wide_acgs = ecephys.units.compute_autocorrelograms_by_hypnogram_state(\n",
    "        trains, hg, WINDOWS_MS[\"wide\"], BINS_MS[\"wide\"], states=states\n",
    "    )\n",
    "    wide_acgs.encoding[\"chunks\"] = wide_acgs.shape\n",
    "    wide_acgs.to_zarr(\n",
    "        nbsh.get_experiment_subject_file(\n",
    "            experiment,\n",
    "            sglx_subject.name,\n",
    "            \"wide_autocorrelograms.zarr\",\n",
    "        )\n",
    "    )"
   ]
  },
  {
   "cell_type": "code",
   "execution_count": null,
   "metadata": {},
   "outputs": [],
   "source": []
  }
 ],
 "metadata": {
  "kernelspec": {
   "display_name": ".venv",
   "language": "python",
   "name": "python3"
  },
  "language_info": {
   "codemirror_mode": {
    "name": "ipython",
    "version": 3
   },
   "file_extension": ".py",
   "mimetype": "text/x-python",
   "name": "python",
   "nbconvert_exporter": "python",
   "pygments_lexer": "ipython3",
   "version": "3.13.2"
  }
 },
 "nbformat": 4,
 "nbformat_minor": 2
}
