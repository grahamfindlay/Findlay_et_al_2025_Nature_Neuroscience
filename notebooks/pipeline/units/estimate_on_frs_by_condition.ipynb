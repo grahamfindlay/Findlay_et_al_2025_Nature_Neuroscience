{
 "cells": [
  {
   "cell_type": "code",
   "execution_count": null,
   "id": "37e9ca9d",
   "metadata": {},
   "outputs": [],
   "source": [
    "import pandas as pd\n",
    "\n",
    "import findlay2025a as f25a\n",
    "import offproj as op  # See note below\n",
    "import wisc_ecephys_tools as wet"
   ]
  },
  {
   "cell_type": "code",
   "execution_count": 2,
   "id": "58b68865",
   "metadata": {},
   "outputs": [],
   "source": [
    "nbsh = wet.get_sglx_project(\"seahorse\")\n",
    "experiment = wet.rats.constants.SleepDeprivationExperiments.NOD\n",
    "sortings = f25a.units.get_nod_sortings()"
   ]
  },
  {
   "cell_type": "code",
   "execution_count": 3,
   "id": "29ca4d53",
   "metadata": {},
   "outputs": [],
   "source": [
    "strictness = \"sua_moderate\"\n",
    "df = pd.read_parquet(nbsh.get_project_file(f\"frs.with_meta.{strictness}.pqt\"))"
   ]
  },
  {
   "cell_type": "code",
   "execution_count": 4,
   "id": "b5ebac56",
   "metadata": {},
   "outputs": [],
   "source": [
    "subjects = [subj for subj, _ in sortings]\n",
    "for subject in subjects:\n",
    "    hgs = f25a.hypnograms.load_statistical_condition_hypnograms(experiment, subject)\n",
    "    for condition, hg in hgs.items():\n",
    "        mask = (df[\"subject\"] == subject) & (df[\"condition\"] == condition)\n",
    "        df.loc[mask, \"condition_duration\"] = hg[\"duration\"].sum()\n",
    "df[\"num_spikes\"] = df[\"firing_rate\"] * df[\"condition_duration\"]"
   ]
  },
  {
   "cell_type": "code",
   "execution_count": 5,
   "id": "56fbbdee",
   "metadata": {},
   "outputs": [
    {
     "name": "stderr",
     "output_type": "stream",
     "text": [
      "/home/gfindlay/projects/ece/wisc_ecephys_tools/src/wisc_ecephys_tools/rats/sortings.py:116: UserWarning: The following structures were unrecognized and ignored across all datasets: {'DG-dl-ml', 'CA3-DG-vl', 'CA1-so', 'CA1-sr', 'DG-dl-pol', '???', 'CA1-slm', 'CA3-DG', 'DG-vl-gcl', 'CA3-DG-dl', 'DG-pol', 'CA1-sp', 'DG-vl-ml', 'DG-dl-gcl', 'CA3-sp'}\n",
      "  warnings.warn(\n"
     ]
    }
   ],
   "source": [
    "which = \"ap\"\n",
    "mean_ap = False\n",
    "by_channel = False\n",
    "by_layer = False\n",
    "spsl = op.get_completed_subject_probe_structure_list(\n",
    "    [\"Cx\"], which=which, mean_ap=mean_ap, by_channel=by_channel, by_layer=by_layer\n",
    ")\n",
    "spsl = [\n",
    "    (subj, prb, strct)\n",
    "    for subj, prb, strct in spsl\n",
    "    if (subj in subjects) and (subj in op.core.NOD_ANIMALS)\n",
    "]"
   ]
  },
  {
   "cell_type": "code",
   "execution_count": 6,
   "id": "856a1c9c",
   "metadata": {},
   "outputs": [],
   "source": [
    "offs = []\n",
    "for subject, probe, acronym in spsl:\n",
    "    sps_offs = op.core.get_offs(\n",
    "        subject,\n",
    "        probe,\n",
    "        acronym,\n",
    "        layer=None,\n",
    "        which=which,\n",
    "        off_filters={\n",
    "            \"span\": (100, float(\"Inf\")),\n",
    "            \"median_duration\": (0.03, 1.0),\n",
    "            \"duration\": (0.0, 1.0),\n",
    "        },\n",
    "        experiment=experiment,\n",
    "        mean_ap=mean_ap,\n",
    "    )\n",
    "    hgs = f25a.hypnograms.load_statistical_condition_hypnograms(experiment, subject)\n",
    "    for condition, hg in hgs.items():\n",
    "        is_condition = hg.covers_time(sps_offs[\"start_time\"])\n",
    "        _offs = sps_offs[is_condition].copy()\n",
    "        _offs[\"condition\"] = condition\n",
    "        _offs[\"experiment\"] = experiment\n",
    "        _offs[\"subject\"] = subject\n",
    "        _offs[\"probe\"] = probe\n",
    "        _offs[\"acronym\"] = acronym\n",
    "        offs.append(_offs)\n",
    "\n",
    "offs = pd.concat(offs, axis=0, ignore_index=True)"
   ]
  },
  {
   "cell_type": "code",
   "execution_count": null,
   "id": "f4bf1380",
   "metadata": {},
   "outputs": [],
   "source": [
    "# If you do not have offproj installed, you can find these off_durations included in\n",
    "# the R package at findlay2025a/r/f25a/inst/extdata/off_durations.pqt\n",
    "off_durations = offs[\n",
    "    [\"subject\", \"probe\", \"acronym\", \"condition\", \"duration\"]\n",
    "].to_parquet(\"off_durations.pqt\")"
   ]
  },
  {
   "cell_type": "code",
   "execution_count": 8,
   "id": "776242c2",
   "metadata": {},
   "outputs": [],
   "source": [
    "spsc_off_durations = offs.groupby([\"subject\", \"probe\", \"acronym\", \"condition\"])[\n",
    "    \"duration\"\n",
    "].sum()"
   ]
  },
  {
   "cell_type": "code",
   "execution_count": 9,
   "id": "f5ac6319",
   "metadata": {},
   "outputs": [],
   "source": [
    "df = pd.merge(\n",
    "    df,\n",
    "    spsc_off_durations.rename(\"total_off_duration\"),\n",
    "    on=[\"subject\", \"probe\", \"acronym\", \"condition\"],\n",
    "    how=\"left\",\n",
    ")\n",
    "df[\"on_firing_rate\"] = df[\"num_spikes\"] / (\n",
    "    df[\"condition_duration\"] - df[\"total_off_duration\"]\n",
    ")"
   ]
  },
  {
   "cell_type": "code",
   "execution_count": 10,
   "id": "813a389b",
   "metadata": {},
   "outputs": [],
   "source": [
    "df.to_parquet(nbsh.get_project_file(f\"estm_on_frs.with_meta.{strictness}.pqt\"))"
   ]
  },
  {
   "cell_type": "code",
   "execution_count": null,
   "id": "1aa09c11",
   "metadata": {},
   "outputs": [],
   "source": []
  }
 ],
 "metadata": {
  "kernelspec": {
   "display_name": ".venv",
   "language": "python",
   "name": "python3"
  },
  "language_info": {
   "codemirror_mode": {
    "name": "ipython",
    "version": 3
   },
   "file_extension": ".py",
   "mimetype": "text/x-python",
   "name": "python",
   "nbconvert_exporter": "python",
   "pygments_lexer": "ipython3",
   "version": "3.13.2"
  }
 },
 "nbformat": 4,
 "nbformat_minor": 5
}
