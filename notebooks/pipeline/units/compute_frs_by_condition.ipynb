{
 "cells": [
  {
   "cell_type": "code",
   "execution_count": 1,
   "metadata": {},
   "outputs": [],
   "source": [
    "import pandas as pd\n",
    "\n",
    "import findlay2025a as f25a\n",
    "import wisc_ecephys_tools as wet"
   ]
  },
  {
   "cell_type": "code",
   "execution_count": 2,
   "metadata": {},
   "outputs": [],
   "source": [
    "s3 = wet.get_sglx_project(\"shared\")\n",
    "nbsh = wet.get_sglx_project(\"seahorse\")\n",
    "experiment = wet.rats.constants.SleepDeprivationExperiments.NOD\n",
    "sortings = f25a.units.get_nod_sortings()"
   ]
  },
  {
   "cell_type": "code",
   "execution_count": null,
   "metadata": {},
   "outputs": [
    {
     "name": "stdout",
     "output_type": "stream",
     "text": [
      "\n",
      " Doing CNPIX10-Charles...\n",
      "quality: {'mua', 'good', nan} excludes 98 clusters.\n",
      "firing_rate: (0.5, inf) excludes 149 clusters.\n",
      "182/553 clusters excluded by jointly applying filters. 371 remain.\n",
      "quality: {'mua', 'good', nan} excludes 138 clusters.\n",
      "firing_rate: (0.5, inf) excludes 85 clusters.\n",
      "161/291 clusters excluded by jointly applying filters. 130 remain.\n"
     ]
    },
    {
     "name": "stderr",
     "output_type": "stream",
     "text": [
      "Loading trains by cluster_id: 100%|██████████| 501/501 [03:54<00:00,  2.14it/s]\n"
     ]
    }
   ],
   "source": [
    "for subject, probes in sortings:\n",
    "    print(f\"\\n Doing {subject}...\")\n",
    "    savefile = nbsh.get_experiment_subject_file(\n",
    "        experiment, subject, \"firing_rates_by_condition.pqt\"\n",
    "    )\n",
    "    hgs = f25a.hypnograms.load_statistical_condition_hypnograms(\n",
    "        experiment, subject, include_full_conservative=True\n",
    "    )\n",
    "    mps = f25a.units.load_nod_multiprobe_sorting(\n",
    "        subject, **f25a.units.get_threshold_kwargs()[\"mua\"]\n",
    "    )\n",
    "    trains = mps.get_cluster_trains()\n",
    "    df = (\n",
    "        pd.DataFrame(\n",
    "            {\n",
    "                condition: {\n",
    "                    id: hg.covers_time(train).sum() / hg[\"duration\"].sum()\n",
    "                    for id, train in trains.items()\n",
    "                }\n",
    "                for condition, hg in hgs.items()\n",
    "            }\n",
    "        )\n",
    "        .rename_axis(\"cluster_id\")\n",
    "        .reset_index()\n",
    "    )\n",
    "    df.to_parquet(savefile)\n",
    "    del trains"
   ]
  },
  {
   "cell_type": "code",
   "execution_count": null,
   "metadata": {},
   "outputs": [],
   "source": [
    "subj_dfs = []\n",
    "for subject, probes in sortings:\n",
    "    savefile = nbsh.get_experiment_subject_file(\n",
    "        experiment, subject, \"firing_rates_by_condition.pqt\"\n",
    "    )\n",
    "    subj_df = pd.read_parquet(savefile)\n",
    "    subj_df[\"subject\"] = subject\n",
    "    subj_df[\"experiment\"] = experiment\n",
    "    subj_dfs.append(subj_df)\n",
    "frs = pd.concat(subj_dfs, axis=0, ignore_index=True)\n",
    "frs.to_parquet(nbsh.get_project_file(\"firing_rates_by_condition.pqt\"))"
   ]
  },
  {
   "cell_type": "code",
   "execution_count": 4,
   "metadata": {},
   "outputs": [],
   "source": [
    "frs = pd.read_parquet(nbsh.get_project_file(\"firing_rates_by_condition.pqt\"))"
   ]
  },
  {
   "cell_type": "code",
   "execution_count": 10,
   "metadata": {},
   "outputs": [],
   "source": [
    "cell_types = pd.read_parquet(nbsh.get_project_file(\"cell_types.pqt\"))\n",
    "cluster_quality = pd.read_parquet(nbsh.get_project_file(\"cluster_quality.pqt\"))\n",
    "mps_metrics = pd.read_parquet(nbsh.get_project_file(\"mps_metrics.pqt\"))\n",
    "\n",
    "id_cols = [\"subject\", \"experiment\", \"probe\", \"cluster_id\"]\n",
    "df = pd.merge(cell_types, cluster_quality, on=id_cols, how=\"left\")\n",
    "df = pd.merge(df, mps_metrics, on=id_cols, how=\"left\")\n",
    "df = pd.merge(df, frs, on=[\"subject\", \"cluster_id\"], how=\"right\")"
   ]
  },
  {
   "cell_type": "code",
   "execution_count": 11,
   "metadata": {},
   "outputs": [],
   "source": [
    "state_fr_cols = [c for c in mps_metrics.columns if \"firing_rate_\" in c]\n",
    "df = df.drop(columns=[\"firing_rate\"], errors=\"ignore\")\n",
    "\n",
    "cond_fr_cols = [c for c in frs.columns if c not in id_cols]\n",
    "df = pd.melt(\n",
    "    df,\n",
    "    id_vars=[col for col in df.columns if col not in cond_fr_cols + state_fr_cols],\n",
    "    value_vars=cond_fr_cols + state_fr_cols,\n",
    "    var_name=\"condition\",\n",
    "    value_name=\"firing_rate\",\n",
    ")\n",
    "df[\"condition\"] = df[\"condition\"].str.replace(\"firing_rate_\", \"\", regex=False)\n"
   ]
  },
  {
   "cell_type": "code",
   "execution_count": null,
   "metadata": {},
   "outputs": [],
   "source": [
    "strictness = \"sua_moderate\"\n",
    "strictness_levels = [\"mua\", \"sua_permissive\", \"sua_moderate\", \"sua_conservative\"]\n",
    "strictness_index = strictness_levels.index(strictness)\n",
    "df = df.loc[df[\"max_quality\"].isin(strictness_levels[strictness_index:])]"
   ]
  },
  {
   "cell_type": "code",
   "execution_count": null,
   "metadata": {},
   "outputs": [],
   "source": [
    "df.to_parquet(nbsh.get_project_file(f\"frs.with_meta.{strictness}.pqt\"))"
   ]
  }
 ],
 "metadata": {
  "kernelspec": {
   "display_name": ".venv",
   "language": "python",
   "name": "python3"
  },
  "language_info": {
   "codemirror_mode": {
    "name": "ipython",
    "version": 3
   },
   "file_extension": ".py",
   "mimetype": "text/x-python",
   "name": "python",
   "nbconvert_exporter": "python",
   "pygments_lexer": "ipython3",
   "version": "3.13.2"
  }
 },
 "nbformat": 4,
 "nbformat_minor": 2
}
