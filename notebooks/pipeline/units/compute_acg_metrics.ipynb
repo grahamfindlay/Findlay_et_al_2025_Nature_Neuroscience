{
 "cells": [
  {
   "cell_type": "code",
   "execution_count": null,
   "metadata": {},
   "outputs": [],
   "source": [
    "import xarray as xr\n",
    "\n",
    "import findlay2025a as f25a\n",
    "import wisc_ecephys_tools as wet"
   ]
  },
  {
   "cell_type": "code",
   "execution_count": null,
   "metadata": {},
   "outputs": [],
   "source": [
    "s3 = wet.get_sglx_project(\"shared\")\n",
    "nbsh = wet.get_sglx_project(\"seahorse\")\n",
    "experiment = wet.rats.constants.SleepDeprivationExperiments.NOD\n",
    "sortings = f25a.units.get_nod_sortings()"
   ]
  },
  {
   "cell_type": "code",
   "execution_count": null,
   "metadata": {},
   "outputs": [
    {
     "name": "stdout",
     "output_type": "stream",
     "text": [
      "\n",
      "Doing CNPIX2-Segundo...\n",
      "\n",
      "Doing CNPIX3-Valentino...\n",
      "\n",
      "Doing CNPIX4-Doppio...\n",
      "\n",
      "Doing CNPIX5-Alessandro...\n",
      "\n",
      "Doing CNPIX6-Eugene...\n",
      "\n",
      "Doing CNPIX8-Allan...\n",
      "\n",
      "Doing CNPIX9-Luigi...\n",
      "\n",
      "Doing CNPIX10-Charles...\n",
      "\n",
      "Doing CNPIX11-Adrian...\n",
      "\n",
      "Doing CNPIX12-Santiago...\n"
     ]
    },
    {
     "name": "stderr",
     "output_type": "stream",
     "text": [
      "/home/gfindlay/projects/ece/seahorse/src/seahorse/units/acg.py:177: RuntimeWarning: invalid value encountered in scalar divide\n",
      "  rsq = 1 - (ss_res / ss_tot)\n"
     ]
    },
    {
     "name": "stdout",
     "output_type": "stream",
     "text": [
      "\n",
      "Doing CNPIX14-Francis...\n",
      "\n",
      "Doing CNPIX15-Claude...\n",
      "\n",
      "Doing CNPIX17-Hans...\n",
      "\n",
      "Doing CNPIX18-Pier...\n",
      "\n",
      "Doing CNPIX19-Otto...\n",
      "\n",
      "Doing CNPIX20-Ernst...\n"
     ]
    }
   ],
   "source": [
    "for subject, probes in sortings:\n",
    "    print(f\"\\nDoing {subject}...\")\n",
    "\n",
    "    file = nbsh.get_experiment_subject_file(experiment, subject, \"acg_metrics.pqt\")\n",
    "    # if file.exists():\n",
    "    #    print(f\"Skipping {subject} because metrics already exist\")\n",
    "    #    continue\n",
    "\n",
    "    narrow_acgs, wide_acgs = f25a.units.load_narrow_and_wide_acgs(subject)\n",
    "\n",
    "    # Get ACG fit\n",
    "    fit_results = f25a.units.acg.get_fits(narrow_acgs)\n",
    "\n",
    "    # Get ISI distribution shoulder\n",
    "    smth_acgs = (\n",
    "        narrow_acgs.rolling(time=3, center=True)\n",
    "        .mean()\n",
    "        .ffill(dim=\"time\")\n",
    "        .bfill(dim=\"time\")\n",
    "    )\n",
    "    smth_isis = smth_acgs.sel(time=slice(0, None))\n",
    "    shoulders = f25a.units.acg.get_shoulders(smth_isis)\n",
    "\n",
    "    # Get burst index and moment\n",
    "    burst_index = f25a.units.acg.get_burst_index(narrow_acgs, wide_acgs)\n",
    "    moment = narrow_acgs.sel(time=slice(0, None)).mean(dim=\"time\").rename(\"moment\")\n",
    "\n",
    "    # Merge metrics\n",
    "    metrics = xr.merge(\n",
    "        [\n",
    "            fit_results,\n",
    "            shoulders,\n",
    "            burst_index,\n",
    "            moment,\n",
    "        ]\n",
    "    )\n",
    "    metrics = metrics.to_dataframe().reset_index()\n",
    "\n",
    "    # Save metrics\n",
    "    metrics.to_parquet(file)"
   ]
  },
  {
   "cell_type": "code",
   "execution_count": null,
   "metadata": {},
   "outputs": [],
   "source": []
  }
 ],
 "metadata": {
  "kernelspec": {
   "display_name": ".venv",
   "language": "python",
   "name": "python3"
  },
  "language_info": {
   "codemirror_mode": {
    "name": "ipython",
    "version": 3
   },
   "file_extension": ".py",
   "mimetype": "text/x-python",
   "name": "python",
   "nbconvert_exporter": "python",
   "pygments_lexer": "ipython3",
   "version": "3.13.2"
  }
 },
 "nbformat": 4,
 "nbformat_minor": 4
}
