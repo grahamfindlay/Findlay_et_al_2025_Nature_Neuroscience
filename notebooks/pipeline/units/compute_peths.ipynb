{
 "cells": [
  {
   "cell_type": "code",
   "execution_count": 1,
   "metadata": {},
   "outputs": [],
   "source": [
    "import pathlib\n",
    "import shutil\n",
    "\n",
    "import xarray as xr\n",
    "\n",
    "import ecephys as ec\n",
    "import findlay2025a as f25a\n",
    "import wisc_ecephys_tools as wet"
   ]
  },
  {
   "cell_type": "code",
   "execution_count": 2,
   "metadata": {},
   "outputs": [],
   "source": [
    "def overwrite_zarr(data: xr.DataArray, filepath: pathlib.Path):\n",
    "    if filepath.exists():\n",
    "        shutil.rmtree(filepath)\n",
    "    assert not filepath.exists(), f\"Failed to remove extant {filepath}.\"\n",
    "    return data.to_zarr(filepath)"
   ]
  },
  {
   "cell_type": "code",
   "execution_count": null,
   "metadata": {},
   "outputs": [],
   "source": [
    "nbsh = wet.get_sglx_project(\"seahorse\")\n",
    "experiment = wet.rats.constants.SleepDeprivationExperiments.NOD\n",
    "bin_size = 0.025\n",
    "zscore_window_size = 10.0\n",
    "kept_window_size = 1.0\n",
    "\n",
    "for subject, probes in f25a.units.get_nod_sortings():\n",
    "    print(f\"Doing {subject}...\")\n",
    "    spws = f25a.sharp_waves.read_spws(subject, experiment)\n",
    "    ds = f25a.dentate_spikes.read_dspks(subject, experiment)\n",
    "    ripples = f25a.ripples.read_ripples(subject, experiment)\n",
    "    cx_sps, cx_trghs = f25a.spindles.read_spindles(\n",
    "        subject, experiment, region=\"cortical\"\n",
    "    )\n",
    "\n",
    "    evt_trains = {\n",
    "        \"spw\": spws[\"pk_time\"].values,\n",
    "        \"ripple\": ripples[\"pk_time\"].values,\n",
    "        \"dspk\": ds[\"peak_time\"].values,\n",
    "        \"cortical_spindle\": cx_sps[\"Peak\"].values,\n",
    "        \"cortical_spindle_trough\": cx_trghs,\n",
    "    }\n",
    "\n",
    "    hgs = f25a.hypnograms.load_statistical_condition_hypnograms(\n",
    "        experiment, subject, include_full_conservative=True\n",
    "    )\n",
    "    hg = hgs.pop(\"full_conservative\").drop_states(\n",
    "        f25a.core.ARTIFACT_STATES + [\"NoData\"]\n",
    "    )\n",
    "\n",
    "    evt_states = {k: hg.get_states(v) for k, v in evt_trains.items()}\n",
    "\n",
    "    threshold_kwargs = f25a.units.get_threshold_kwargs()[\"mua\"]\n",
    "    mps = f25a.units.load_nod_multiprobe_sorting(subject, **threshold_kwargs)\n",
    "    spike_trains = mps.get_cluster_trains()\n",
    "\n",
    "    for evt_type in list(evt_trains):\n",
    "        print(f\"Computing {evt_type} peths...\")\n",
    "        peths = ec.units.get_peths_from_trains(\n",
    "            spike_trains,\n",
    "            evt_trains[evt_type],\n",
    "            event_labels=evt_states[evt_type],\n",
    "            train_keys=\"cluster_id\",\n",
    "            property_frame=mps.properties,\n",
    "            property_names=[\"acronym\"],\n",
    "            pre_time=zscore_window_size,\n",
    "            post_time=zscore_window_size,\n",
    "            bin_size=bin_size,\n",
    "            return_fr=False,\n",
    "        ).rename(\"peth\")\n",
    "        peths = peths.rename({\"event_type\": \"state\"})\n",
    "        peths = peths.sel(event=peths.state.isin([\"Wake\", \"NREM\", \"IS\", \"REM\"]))\n",
    "\n",
    "        zscored_peths = ec.units.zscore_peths_by_peri_event_window(peths).sel(\n",
    "            time=slice(-kept_window_size, kept_window_size)\n",
    "        )\n",
    "        zscored_peths_file = nbsh.get_experiment_subject_file(\n",
    "            experiment, subject, f\"{evt_type}_zscored_peths.zarr\"\n",
    "        )\n",
    "        overwrite_zarr(zscored_peths, zscored_peths_file)\n",
    "\n",
    "        peths = peths.sel(time=slice(-kept_window_size, kept_window_size)).astype(\n",
    "            \"uint16\"\n",
    "        )\n",
    "        peths_file = nbsh.get_experiment_subject_file(\n",
    "            experiment, subject, f\"{evt_type}_peths.zarr\"\n",
    "        )\n",
    "        overwrite_zarr(peths, peths_file)"
   ]
  },
  {
   "cell_type": "code",
   "execution_count": null,
   "metadata": {},
   "outputs": [],
   "source": []
  }
 ],
 "metadata": {
  "kernelspec": {
   "display_name": ".venv",
   "language": "python",
   "name": "python3"
  },
  "language_info": {
   "codemirror_mode": {
    "name": "ipython",
    "version": 3
   },
   "file_extension": ".py",
   "mimetype": "text/x-python",
   "name": "python",
   "nbconvert_exporter": "python",
   "pygments_lexer": "ipython3",
   "version": "3.13.2"
  }
 },
 "nbformat": 4,
 "nbformat_minor": 2
}
