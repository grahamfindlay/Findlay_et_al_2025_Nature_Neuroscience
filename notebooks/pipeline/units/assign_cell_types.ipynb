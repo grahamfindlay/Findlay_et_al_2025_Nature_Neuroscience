{
 "cells": [
  {
   "cell_type": "code",
   "execution_count": 1,
   "metadata": {},
   "outputs": [
    {
     "name": "stderr",
     "output_type": "stream",
     "text": [
      "/home/gfindlay/projects/ece/gfys_workspace/.venv/lib/python3.13/site-packages/umap/__init__.py:9: ImportWarning: Tensorflow not installed; ParametricUMAP will be unavailable\n",
      "  warn(\n"
     ]
    }
   ],
   "source": [
    "import pandas as pd\n",
    "\n",
    "import findlay2025a as f25a\n",
    "import wisc_ecephys_tools as wet"
   ]
  },
  {
   "cell_type": "code",
   "execution_count": 2,
   "metadata": {},
   "outputs": [],
   "source": [
    "nbsh = wet.get_sglx_project(\"seahorse\")\n",
    "experiment = wet.rats.constants.SleepDeprivationExperiments.NOD\n",
    "sortings = f25a.units.get_nod_sortings()"
   ]
  },
  {
   "cell_type": "code",
   "execution_count": 3,
   "metadata": {},
   "outputs": [],
   "source": [
    "df = pd.read_parquet(nbsh.get_project_file(\"aggregated_cell_metrics.pqt\"))"
   ]
  },
  {
   "cell_type": "code",
   "execution_count": 4,
   "metadata": {},
   "outputs": [],
   "source": [
    "id_cols = [\"subject\", \"experiment\", \"probe\", \"cluster_id\"]\n",
    "\n",
    "\n",
    "def copy_cell_types_to_other_states(\n",
    "    df: pd.DataFrame, src_state: str, cell_type_col: str\n",
    ") -> pd.DataFrame:\n",
    "    state_cell_types = df[df[\"state\"] == src_state][id_cols + [cell_type_col]].dropna()\n",
    "    for _, row in state_cell_types.iterrows():\n",
    "        # Find all rows with the same cell_id_cols\n",
    "        mask = (df[id_cols] == row[id_cols]).all(axis=1)\n",
    "        # Update cell_type_col for all states of this cell\n",
    "        df.loc[mask, cell_type_col] = row[cell_type_col]\n",
    "    return df\n",
    "\n",
    "\n",
    "df.drop(\n",
    "    columns=[\"cluster_cell_type\", \"narrow_wide_cell_type\", \"petersen_cell_type\"],\n",
    "    inplace=True,\n",
    "    errors=\"ignore\",\n",
    ")"
   ]
  },
  {
   "cell_type": "code",
   "execution_count": 5,
   "metadata": {},
   "outputs": [],
   "source": [
    "def classify_narrow_wide(peak_to_valley: float) -> str:\n",
    "    if peak_to_valley <= 0.000425:\n",
    "        return \"narrow\"\n",
    "    else:\n",
    "        return \"wide\"\n",
    "\n",
    "\n",
    "narrow_wide_cell_types = (\n",
    "    df.loc[\n",
    "        (df[\"state\"] == \"NREM\")\n",
    "        & ((df[\"region\"] == \"cortical\") | (df[\"region\"] == \"hippocampal\")),\n",
    "        \"peak_to_valley\",\n",
    "    ]\n",
    "    .apply(classify_narrow_wide)\n",
    "    .rename(\"narrow_wide_cell_type\")\n",
    ")\n",
    "df.loc[narrow_wide_cell_types.index, \"narrow_wide_cell_type\"] = narrow_wide_cell_types\n",
    "df = copy_cell_types_to_other_states(df, \"NREM\", \"narrow_wide_cell_type\")"
   ]
  },
  {
   "cell_type": "code",
   "execution_count": 6,
   "metadata": {},
   "outputs": [],
   "source": [
    "def classify_petersen_cortical_cell_type(peak_to_valley: float, tau_rise: float) -> str:\n",
    "    if classify_narrow_wide(peak_to_valley) == \"narrow\":\n",
    "        return \"narrow interneuron\"\n",
    "    elif tau_rise > 6:\n",
    "        return \"wide interneuron\"\n",
    "    else:\n",
    "        return \"pyramidal\"\n",
    "\n",
    "\n",
    "petersen_cell_types = (\n",
    "    df.loc[\n",
    "        (df[\"state\"] == \"NREM\") & (df[\"region\"] == \"cortical\"),\n",
    "        [\"peak_to_valley\", \"tau_rise\"],\n",
    "    ]\n",
    "    .apply(\n",
    "        lambda row: classify_petersen_cortical_cell_type(\n",
    "            row[\"peak_to_valley\"], row[\"tau_rise\"]\n",
    "        ),\n",
    "        axis=1,\n",
    "    )\n",
    "    .rename(\"petersen_cell_type\")\n",
    ")\n",
    "df.loc[petersen_cell_types.index, \"petersen_cell_type\"] = petersen_cell_types\n",
    "df = copy_cell_types_to_other_states(df, \"NREM\", \"petersen_cell_type\")\n"
   ]
  },
  {
   "cell_type": "code",
   "execution_count": 7,
   "metadata": {},
   "outputs": [],
   "source": [
    "def classify_petersen_hippocampal_cell_type(\n",
    "    peak_to_valley: float, tau_rise: float\n",
    ") -> str:\n",
    "    if classify_narrow_wide(peak_to_valley) == \"narrow\":\n",
    "        return \"narrow interneuron\"\n",
    "    elif tau_rise > 3:\n",
    "        return \"wide interneuron\"\n",
    "    else:\n",
    "        return \"pyramidal\"\n",
    "\n",
    "\n",
    "petersen_cell_types = (\n",
    "    df.loc[\n",
    "        (df[\"state\"] == \"NREM\") & (df[\"region\"] == \"hippocampal\"),\n",
    "        [\"peak_to_valley\", \"tau_rise\"],\n",
    "    ]\n",
    "    .apply(\n",
    "        lambda row: classify_petersen_hippocampal_cell_type(\n",
    "            row[\"peak_to_valley\"], row[\"tau_rise\"]\n",
    "        ),\n",
    "        axis=1,\n",
    "    )\n",
    "    .rename(\"petersen_cell_type\")\n",
    ")\n",
    "df.loc[petersen_cell_types.index, \"petersen_cell_type\"] = petersen_cell_types\n",
    "df = copy_cell_types_to_other_states(df, \"NREM\", \"petersen_cell_type\")"
   ]
  },
  {
   "cell_type": "code",
   "execution_count": 8,
   "metadata": {},
   "outputs": [],
   "source": [
    "cell_types = df.loc[\n",
    "    df[\"state\"] == \"NREM\", id_cols + [\"narrow_wide_cell_type\", \"petersen_cell_type\"]\n",
    "].reset_index(drop=True)\n",
    "cell_types.to_parquet(nbsh.get_project_file(\"cell_types.pqt\"))"
   ]
  },
  {
   "cell_type": "code",
   "execution_count": 9,
   "metadata": {},
   "outputs": [],
   "source": [
    "df.to_parquet(nbsh.get_project_file(\"aggregated_cell_metrics.pqt\"))"
   ]
  }
 ],
 "metadata": {
  "kernelspec": {
   "display_name": ".venv",
   "language": "python",
   "name": "python3"
  },
  "language_info": {
   "codemirror_mode": {
    "name": "ipython",
    "version": 3
   },
   "file_extension": ".py",
   "mimetype": "text/x-python",
   "name": "python",
   "nbconvert_exporter": "python",
   "pygments_lexer": "ipython3",
   "version": "3.13.2"
  }
 },
 "nbformat": 4,
 "nbformat_minor": 2
}
