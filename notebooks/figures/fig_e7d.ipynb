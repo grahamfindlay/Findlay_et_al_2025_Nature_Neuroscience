{
 "cells": [
  {
   "cell_type": "code",
   "execution_count": 1,
   "id": "e21f1dd8",
   "metadata": {},
   "outputs": [],
   "source": [
    "import matplotlib.pyplot as plt\n",
    "import seaborn as sns\n",
    "\n",
    "import findlay2025a as f25a"
   ]
  },
  {
   "cell_type": "code",
   "execution_count": null,
   "id": "daa83001",
   "metadata": {},
   "outputs": [],
   "source": [
    "c_sps, sp_exp_rates, sp_state_rates, sp_cond_rates = f25a.spindles.aggregate_spindles(\n",
    "    region=\"cortical\"\n",
    ")"
   ]
  },
  {
   "cell_type": "code",
   "execution_count": 3,
   "id": "edfbf499",
   "metadata": {},
   "outputs": [],
   "source": [
    "c_ds, ds_exp_rates, ds_state_rates, ds_cond_rates = (\n",
    "    f25a.dentate_spikes.aggregate_dspks()\n",
    ")"
   ]
  },
  {
   "cell_type": "code",
   "execution_count": 4,
   "id": "96df7ca3",
   "metadata": {},
   "outputs": [],
   "source": [
    "nbsh = f25a.core.get_project(\"seahorse\")"
   ]
  },
  {
   "cell_type": "code",
   "execution_count": 5,
   "id": "098c55a1",
   "metadata": {},
   "outputs": [],
   "source": [
    "colorblind_palette = sns.color_palette(\"colorblind\")\n",
    "state_colors = {\n",
    "    \"Wake\": colorblind_palette[2],\n",
    "    \"NREM\": colorblind_palette[0],\n",
    "    \"IS\": colorblind_palette[3],\n",
    "    \"REM\": colorblind_palette[1],\n",
    "}"
   ]
  },
  {
   "cell_type": "code",
   "execution_count": null,
   "id": "ed11d158",
   "metadata": {},
   "outputs": [],
   "source": [
    "from findlay2025a.constants import Experiments as Exps\n",
    "\n",
    "experiment_display_names = {\n",
    "    Exps.NOD: \"Novelty\",\n",
    "    Exps.COW: \"Locomotion\",\n",
    "    Exps.CTN: \"Dual\",\n",
    "}\n",
    "\n",
    "spindle_measure_display_names = {\n",
    "    \"rate_rel2total\": \"Cortical.Spindle.Rate\",\n",
    "}\n",
    "ds_measure_display_names = {\n",
    "    \"rate_rel2total\": \"DSPK.Rate\",\n",
    "}\n",
    "\n",
    "sp_state_rates = sp_state_rates.reset_index()\n",
    "sp_state_rates = sp_state_rates[[\"subject\", \"experiment\", \"state\", \"rate_rel2total\"]]\n",
    "sp_state_rates[\"experiment\"] = sp_state_rates[\"experiment\"].map(\n",
    "    experiment_display_names\n",
    ")\n",
    "sp_state_rates = sp_state_rates.rename(columns=spindle_measure_display_names)\n",
    "sp_state_rates.to_parquet(nbsh.get_project_file(\"cortical_spindle_state_rates.parquet\"))\n",
    "\n",
    "ds_state_rates = ds_state_rates.reset_index()\n",
    "ds_state_rates = ds_state_rates[[\"subject\", \"experiment\", \"state\", \"rate_rel2total\"]]\n",
    "ds_state_rates[\"experiment\"] = ds_state_rates[\"experiment\"].map(\n",
    "    experiment_display_names\n",
    ")\n",
    "ds_state_rates = ds_state_rates.rename(columns=ds_measure_display_names)\n",
    "ds_state_rates.to_parquet(nbsh.get_project_file(\"dspk_state_rates.parquet\"))"
   ]
  },
  {
   "cell_type": "code",
   "execution_count": 10,
   "id": "f0cd354f",
   "metadata": {},
   "outputs": [
    {
     "data": {
      "image/png": "[encoded data removed]",
      "text/plain": [
       "<Figure size 125x400 with 1 Axes>"
      ]
     },
     "metadata": {},
     "output_type": "display_data"
    }
   ],
   "source": [
    "df = sp_state_rates\n",
    "df[\"Cortical.Spindle.Rate\"] = df[\"Cortical.Spindle.Rate\"] * 100\n",
    "fig, ax = plt.subplots(figsize=(1.25, 4))\n",
    "sns.boxplot(\n",
    "    data=df,\n",
    "    y=\"Cortical.Spindle.Rate\",\n",
    "    x=\"state\",\n",
    "    order=list(state_colors.keys()),\n",
    "    fliersize=0,\n",
    "    linewidth=1.0,\n",
    "    hue=\"state\",\n",
    "    hue_order=list(state_colors.keys()),\n",
    "    palette=state_colors,\n",
    "    ax=ax,\n",
    ")\n",
    "sns.swarmplot(\n",
    "    data=df,\n",
    "    y=\"Cortical.Spindle.Rate\",\n",
    "    x=\"state\",\n",
    "    color=\"black\",\n",
    "    s=1.5,\n",
    "    order=list(state_colors.keys()),\n",
    "    ax=ax,\n",
    ")\n",
    "ylim = ax.get_ylim()\n",
    "ax.set_xlabel(\"\")\n",
    "ax.set_ylabel(\"\")\n",
    "ax.set_xticklabels([])\n",
    "fig.savefig(\n",
    "    nbsh.get_project_file(\"figures/cxsp_rate_rel2total_by_state.png\"),\n",
    "    bbox_inches=\"tight\",\n",
    "    dpi=300,\n",
    ")"
   ]
  },
  {
   "cell_type": "code",
   "execution_count": 12,
   "id": "e22d1647",
   "metadata": {},
   "outputs": [
    {
     "data": {
      "image/png": "[encoded data removed]",
      "text/plain": [
       "<Figure size 125x400 with 1 Axes>"
      ]
     },
     "metadata": {},
     "output_type": "display_data"
    }
   ],
   "source": [
    "df = ds_state_rates\n",
    "df[\"DSPK.Rate\"] = df[\"DSPK.Rate\"] * 100\n",
    "fig, ax = plt.subplots(figsize=(1.25, 4))\n",
    "sns.boxplot(\n",
    "    data=df,\n",
    "    y=\"DSPK.Rate\",\n",
    "    x=\"state\",\n",
    "    order=list(state_colors.keys()),\n",
    "    fliersize=0,\n",
    "    linewidth=1.0,\n",
    "    hue=\"state\",\n",
    "    hue_order=list(state_colors.keys()),\n",
    "    palette=state_colors,\n",
    "    ax=ax,\n",
    ")\n",
    "sns.swarmplot(\n",
    "    data=df,\n",
    "    y=\"DSPK.Rate\",\n",
    "    x=\"state\",\n",
    "    color=\"black\",\n",
    "    s=1.5,\n",
    "    order=list(state_colors.keys()),\n",
    "    ax=ax,\n",
    ")\n",
    "ax.set_ylim(ylim)\n",
    "ax.set_xlabel(\"\")\n",
    "ax.set_ylabel(\"\")\n",
    "ax.set_xticklabels([])\n",
    "fig.savefig(\n",
    "    nbsh.get_project_file(\"figures/dspk_rate_rel2total_by_state.png\"),\n",
    "    bbox_inches=\"tight\",\n",
    "    dpi=300,\n",
    ")"
   ]
  },
  {
   "cell_type": "code",
   "execution_count": null,
   "id": "263f9a27",
   "metadata": {},
   "outputs": [],
   "source": []
  }
 ],
 "metadata": {
  "kernelspec": {
   "display_name": ".venv",
   "language": "python",
   "name": "python3"
  },
  "language_info": {
   "codemirror_mode": {
    "name": "ipython",
    "version": 3
   },
   "file_extension": ".py",
   "mimetype": "text/x-python",
   "name": "python",
   "nbconvert_exporter": "python",
   "pygments_lexer": "ipython3",
   "version": "3.13.2"
  }
 },
 "nbformat": 4,
 "nbformat_minor": 5
}
