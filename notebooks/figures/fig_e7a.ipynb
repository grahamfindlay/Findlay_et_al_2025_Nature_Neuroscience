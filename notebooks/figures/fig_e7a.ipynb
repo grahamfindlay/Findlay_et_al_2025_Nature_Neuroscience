{
 "cells": [
  {
   "cell_type": "code",
   "execution_count": 1,
   "metadata": {},
   "outputs": [],
   "source": [
    "import matplotlib.pyplot as plt\n",
    "import numpy as np\n",
    "import pandas as pd\n",
    "import seaborn as sns\n",
    "\n",
    "from ecephys import wne\n",
    "from findlay2025a import core, dentate_spikes, sharp_waves"
   ]
  },
  {
   "cell_type": "code",
   "execution_count": 2,
   "metadata": {},
   "outputs": [],
   "source": [
    "nbsh = core.get_project(\"seahorse\")"
   ]
  },
  {
   "cell_type": "code",
   "execution_count": null,
   "metadata": {},
   "outputs": [
    {
     "name": "stdout",
     "output_type": "stream",
     "text": [
      "Subject: CNPIX2-Segundo, Experiment: novel_objects_deprivation\n",
      "Proportion of DSs with SPWs: 0.04551664529080466\n",
      "Subject: CNPIX3-Valentino, Experiment: novel_objects_deprivation\n",
      "Proportion of DSs with SPWs: 0.10873690289580068\n",
      "Subject: CNPIX4-Doppio, Experiment: novel_objects_deprivation\n",
      "Proportion of DSs with SPWs: 0.14168919364409574\n",
      "Subject: CNPIX5-Alessandro, Experiment: novel_objects_deprivation\n",
      "Proportion of DSs with SPWs: 0.09894359892569382\n",
      "Subject: CNPIX6-Eugene, Experiment: novel_objects_deprivation\n",
      "Proportion of DSs with SPWs: 0.029011669138031073\n",
      "Subject: CNPIX8-Allan, Experiment: novel_objects_deprivation\n",
      "Proportion of DSs with SPWs: 0.0873420527599202\n",
      "Subject: CNPIX9-Luigi, Experiment: novel_objects_deprivation\n",
      "Proportion of DSs with SPWs: 0.031080965055379068\n",
      "Subject: CNPIX10-Charles, Experiment: novel_objects_deprivation\n",
      "Proportion of DSs with SPWs: 0.127515567187077\n",
      "Subject: CNPIX11-Adrian, Experiment: novel_objects_deprivation\n",
      "Proportion of DSs with SPWs: 0.08293082275890298\n",
      "Subject: CNPIX12-Santiago, Experiment: novel_objects_deprivation\n",
      "Proportion of DSs with SPWs: 0.09644159436690557\n",
      "Subject: CNPIX14-Francis, Experiment: novel_objects_deprivation\n",
      "Proportion of DSs with SPWs: 0.07821790133376186\n",
      "Subject: CNPIX15-Claude, Experiment: novel_objects_deprivation\n",
      "Proportion of DSs with SPWs: 0.10936828534593898\n",
      "Subject: CNPIX17-Hans, Experiment: novel_objects_deprivation\n",
      "Proportion of DSs with SPWs: 0.07351354129194718\n",
      "Subject: CNPIX18-Pier, Experiment: novel_objects_deprivation\n",
      "Proportion of DSs with SPWs: 0.12244735162731334\n",
      "Subject: CNPIX19-Otto, Experiment: novel_objects_deprivation\n",
      "Proportion of DSs with SPWs: 0.08176530961341089\n",
      "Subject: CNPIX20-Ernst, Experiment: novel_objects_deprivation\n",
      "Proportion of DSs with SPWs: 0.07880875202593193\n",
      "Subject: CNPIX11-Adrian, Experiment: conveyor_over_water\n",
      "Proportion of DSs with SPWs: 0.07340097044552271\n",
      "Subject: CNPIX12-Santiago, Experiment: conveyor_over_water\n",
      "Proportion of DSs with SPWs: 0.08441492853896268\n",
      "Subject: CNPIX14-Francis, Experiment: conveyor_over_water\n",
      "Proportion of DSs with SPWs: 0.0891685871299415\n",
      "Subject: CNPIX15-Claude, Experiment: conveyor_over_water\n",
      "Proportion of DSs with SPWs: 0.08756370540621565\n",
      "Subject: CNPIX17-Hans, Experiment: conveyor_over_water\n",
      "Proportion of DSs with SPWs: 0.050212669853577745\n",
      "Subject: CNPIX18-Pier, Experiment: conveyor_over_water\n",
      "Proportion of DSs with SPWs: 0.12781618786506138\n",
      "Subject: CNPIX19-Otto, Experiment: conveyor_over_water\n",
      "Proportion of DSs with SPWs: 0.06839725430376989\n",
      "Subject: CNPIX20-Ernst, Experiment: conveyor_over_water\n",
      "Proportion of DSs with SPWs: 0.06723473068789651\n",
      "Subject: CNPIX15-Claude, Experiment: conveyor_then_novelty\n",
      "Proportion of DSs with SPWs: 0.06586162466664669\n",
      "Subject: CNPIX17-Hans, Experiment: conveyor_then_novelty\n",
      "Proportion of DSs with SPWs: 0.06108012091370875\n",
      "Subject: CNPIX18-Pier, Experiment: conveyor_then_novelty\n",
      "Proportion of DSs with SPWs: 0.11723036725214109\n",
      "Subject: CNPIX19-Otto, Experiment: conveyor_then_novelty\n",
      "Proportion of DSs with SPWs: 0.08111803740197064\n",
      "Subject: CNPIX20-Ernst, Experiment: conveyor_then_novelty\n",
      "Proportion of DSs with SPWs: 0.07503378109848184\n"
     ]
    }
   ],
   "source": [
    "def do_experiment(sglx_subject: wne.sglx.SGLXSubject, experiment: str):\n",
    "    spws = sharp_waves.read_spws(sglx_subject.name, experiment, kind=\"postprocessed\")\n",
    "    dspks = dentate_spikes.read_dspks(\n",
    "        sglx_subject.name, experiment, kind=\"postprocessed\"\n",
    "    )\n",
    "    t_spw = spws[\"pk_time\"].values\n",
    "    t_dspk = dspks[\"peak_time\"].values\n",
    "    # Count SPWs within +/- 0.050 seconds of each DSPK\n",
    "    spw_counts = []\n",
    "    window = 0.050  # 50 ms window\n",
    "\n",
    "    for dspk_time in t_dspk:\n",
    "        # Find SPWs within the time window around this DSPK\n",
    "        time_diff = np.abs(t_spw - dspk_time)\n",
    "        spws_in_window = np.sum(time_diff <= window)\n",
    "        spw_counts.append(spws_in_window)\n",
    "\n",
    "    # Add the counts to the dspks dataframe\n",
    "    dspks[\"spw_count\"] = spw_counts\n",
    "    dspks[\"has_spw\"] = dspks[\"spw_count\"] > 0\n",
    "\n",
    "    return dspks\n",
    "\n",
    "\n",
    "def do_project():\n",
    "    dspks_dfs = []\n",
    "    for sglx_subject, experiment in core.yield_sglx_subject_experiment_pairs():\n",
    "        dspks = do_experiment(sglx_subject, experiment)\n",
    "        dspks[\"subject\"] = sglx_subject.name\n",
    "        dspks[\"experiment\"] = experiment\n",
    "        print(f\"Subject: {sglx_subject.name}, Experiment: {experiment}\")\n",
    "        print(f\"Proportion of DSs with SPWs: {dspks['has_spw'].sum() / len(dspks)}\")\n",
    "        dspks_dfs.append(dspks)\n",
    "    return pd.concat(dspks_dfs, ignore_index=True)\n",
    "\n",
    "\n",
    "ds1 = do_project()"
   ]
  },
  {
   "cell_type": "code",
   "execution_count": 4,
   "metadata": {},
   "outputs": [
    {
     "data": {
      "text/plain": [
       "np.float64(0.08301075627966566)"
      ]
     },
     "execution_count": 4,
     "metadata": {},
     "output_type": "execute_result"
    }
   ],
   "source": [
    "ds1[\"has_spw\"].sum() / len(ds1)"
   ]
  },
  {
   "cell_type": "code",
   "execution_count": 5,
   "metadata": {},
   "outputs": [],
   "source": [
    "colorblind_palette = sns.color_palette(\"colorblind\")\n",
    "state_colors = {\n",
    "    \"Wake\": colorblind_palette[2],\n",
    "    \"NREM\": colorblind_palette[0],\n",
    "    \"IS\": colorblind_palette[3],\n",
    "    \"REM\": colorblind_palette[1],\n",
    "}"
   ]
  },
  {
   "cell_type": "code",
   "execution_count": 6,
   "metadata": {},
   "outputs": [
    {
     "name": "stderr",
     "output_type": "stream",
     "text": [
      "/home/gfindlay/projects/ece/gfys_workspace/.venv/lib/python3.13/site-packages/seaborn/categorical.py:700: PendingDeprecationWarning: vert: bool will be deprecated in a future version. Use orientation: {'vertical', 'horizontal'} instead.\n",
      "  artists = ax.bxp(**boxplot_kws)\n",
      "/home/gfindlay/projects/ece/gfys_workspace/.venv/lib/python3.13/site-packages/seaborn/categorical.py:700: PendingDeprecationWarning: vert: bool will be deprecated in a future version. Use orientation: {'vertical', 'horizontal'} instead.\n",
      "  artists = ax.bxp(**boxplot_kws)\n",
      "/home/gfindlay/projects/ece/gfys_workspace/.venv/lib/python3.13/site-packages/seaborn/categorical.py:700: PendingDeprecationWarning: vert: bool will be deprecated in a future version. Use orientation: {'vertical', 'horizontal'} instead.\n",
      "  artists = ax.bxp(**boxplot_kws)\n",
      "/home/gfindlay/projects/ece/gfys_workspace/.venv/lib/python3.13/site-packages/seaborn/categorical.py:700: PendingDeprecationWarning: vert: bool will be deprecated in a future version. Use orientation: {'vertical', 'horizontal'} instead.\n",
      "  artists = ax.bxp(**boxplot_kws)\n"
     ]
    },
    {
     "data": {
      "image/png": "[encoded data removed]",
      "text/plain": [
       "<Figure size 125x400 with 1 Axes>"
      ]
     },
     "metadata": {},
     "output_type": "display_data"
    }
   ],
   "source": [
    "grpd = ds1.groupby([\"subject\", \"experiment\", \"state\"])\n",
    "ds1_props = (grpd[\"has_spw\"].sum() / grpd[\"has_spw\"].count()).reset_index()\n",
    "ds1_props[\"no_spw\"] = 1 - ds1_props[\"has_spw\"]\n",
    "fig, ax = plt.subplots(figsize=(1.25, 4))\n",
    "sns.boxplot(\n",
    "    data=ds1_props,\n",
    "    y=\"no_spw\",\n",
    "    x=\"state\",\n",
    "    order=list(state_colors.keys()),\n",
    "    fliersize=0,\n",
    "    linewidth=1.0,\n",
    "    hue=\"state\",\n",
    "    hue_order=list(state_colors.keys()),\n",
    "    palette=state_colors,\n",
    "    ax=ax,\n",
    ")\n",
    "sns.swarmplot(\n",
    "    data=ds1_props,\n",
    "    y=\"no_spw\",\n",
    "    x=\"state\",\n",
    "    color=\"black\",\n",
    "    s=1.5,\n",
    "    order=list(state_colors.keys()),\n",
    "    ax=ax,\n",
    ")\n",
    "ylim = ax.get_ylim()\n",
    "ax.set_xlabel(\"\")\n",
    "ax.set_ylabel(\"\")\n",
    "ax.set_xticklabels([])\n",
    "fig.savefig(\n",
    "    nbsh.get_project_file(\"figures/ds_without_spw_by_state.png\"),\n",
    "    bbox_inches=\"tight\",\n",
    "    dpi=300,\n",
    ")"
   ]
  },
  {
   "cell_type": "code",
   "execution_count": 13,
   "metadata": {},
   "outputs": [
    {
     "data": {
      "text/html": [
       "<div>\n",
       "<style scoped>\n",
       "    .dataframe tbody tr th:only-of-type {\n",
       "        vertical-align: middle;\n",
       "    }\n",
       "\n",
       "    .dataframe tbody tr th {\n",
       "        vertical-align: top;\n",
       "    }\n",
       "\n",
       "    .dataframe thead th {\n",
       "        text-align: right;\n",
       "    }\n",
       "</style>\n",
       "<table border=\"1\" class=\"dataframe\">\n",
       "  <thead>\n",
       "    <tr style=\"text-align: right;\">\n",
       "      <th></th>\n",
       "      <th>0.25</th>\n",
       "      <th>0.50</th>\n",
       "      <th>0.75</th>\n",
       "    </tr>\n",
       "    <tr>\n",
       "      <th>state</th>\n",
       "      <th></th>\n",
       "      <th></th>\n",
       "      <th></th>\n",
       "    </tr>\n",
       "  </thead>\n",
       "  <tbody>\n",
       "    <tr>\n",
       "      <th></th>\n",
       "      <td>1.000000</td>\n",
       "      <td>1.000000</td>\n",
       "      <td>1.000000</td>\n",
       "    </tr>\n",
       "    <tr>\n",
       "      <th>Artifact</th>\n",
       "      <td>0.965517</td>\n",
       "      <td>0.983696</td>\n",
       "      <td>1.000000</td>\n",
       "    </tr>\n",
       "    <tr>\n",
       "      <th>IS</th>\n",
       "      <td>0.914961</td>\n",
       "      <td>0.934440</td>\n",
       "      <td>0.945709</td>\n",
       "    </tr>\n",
       "    <tr>\n",
       "      <th>MA</th>\n",
       "      <td>0.903918</td>\n",
       "      <td>0.930931</td>\n",
       "      <td>0.945831</td>\n",
       "    </tr>\n",
       "    <tr>\n",
       "      <th>NREM</th>\n",
       "      <td>0.879885</td>\n",
       "      <td>0.900517</td>\n",
       "      <td>0.914065</td>\n",
       "    </tr>\n",
       "    <tr>\n",
       "      <th>Other</th>\n",
       "      <td>0.874594</td>\n",
       "      <td>0.918091</td>\n",
       "      <td>0.949342</td>\n",
       "    </tr>\n",
       "    <tr>\n",
       "      <th>REM</th>\n",
       "      <td>0.992620</td>\n",
       "      <td>0.994231</td>\n",
       "      <td>0.996115</td>\n",
       "    </tr>\n",
       "    <tr>\n",
       "      <th>Wake</th>\n",
       "      <td>0.921529</td>\n",
       "      <td>0.926780</td>\n",
       "      <td>0.952018</td>\n",
       "    </tr>\n",
       "  </tbody>\n",
       "</table>\n",
       "</div>"
      ],
      "text/plain": [
       "              0.25      0.50      0.75\n",
       "state                                 \n",
       "          1.000000  1.000000  1.000000\n",
       "Artifact  0.965517  0.983696  1.000000\n",
       "IS        0.914961  0.934440  0.945709\n",
       "MA        0.903918  0.930931  0.945831\n",
       "NREM      0.879885  0.900517  0.914065\n",
       "Other     0.874594  0.918091  0.949342\n",
       "REM       0.992620  0.994231  0.996115\n",
       "Wake      0.921529  0.926780  0.952018"
      ]
     },
     "execution_count": 13,
     "metadata": {},
     "output_type": "execute_result"
    }
   ],
   "source": [
    "ds1_props.groupby(\"state\")[\"no_spw\"].quantile([0.25, 0.5, 0.75]).unstack()"
   ]
  }
 ],
 "metadata": {
  "kernelspec": {
   "display_name": ".venv",
   "language": "python",
   "name": "python3"
  },
  "language_info": {
   "codemirror_mode": {
    "name": "ipython",
    "version": 3
   },
   "file_extension": ".py",
   "mimetype": "text/x-python",
   "name": "python",
   "nbconvert_exporter": "python",
   "pygments_lexer": "ipython3",
   "version": "3.13.2"
  }
 },
 "nbformat": 4,
 "nbformat_minor": 2
}
