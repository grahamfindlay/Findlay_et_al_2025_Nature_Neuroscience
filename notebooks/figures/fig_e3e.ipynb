{
 "cells": [
  {
   "cell_type": "code",
   "execution_count": null,
   "metadata": {},
   "outputs": [],
   "source": [
    "import matplotlib.pyplot as plt\n",
    "import numpy as np\n",
    "import pandas as pd\n",
    "import seaborn as sns\n",
    "\n",
    "from findlay2025a import core\n",
    "from findlay2025a.constants import Files"
   ]
  },
  {
   "cell_type": "code",
   "execution_count": 2,
   "metadata": {},
   "outputs": [],
   "source": [
    "import warnings\n",
    "\n",
    "warnings.filterwarnings(\"ignore\", category=PendingDeprecationWarning)"
   ]
  },
  {
   "cell_type": "code",
   "execution_count": null,
   "metadata": {},
   "outputs": [],
   "source": [
    "nb = core.get_project(\"seahorse\")\n",
    "df = pd.read_parquet(nb.get_project_file(Files.EXPORTED_CONDITION_MEASURES))"
   ]
  },
  {
   "cell_type": "code",
   "execution_count": 10,
   "metadata": {},
   "outputs": [],
   "source": [
    "p = sns.color_palette(\"Paired\")\n",
    "for i in np.arange(len(p))[1::2]:  # Desaturate some colors a bit\n",
    "    p[i] = tuple((np.array(p[i]) + np.array(p[i - 1])) / 2)\n",
    "\n",
    "p = {\"Early.EXT.Wake\": p[2], \"Late.EXT.Wake\": p[3]}\n",
    "for c in df[\"condition\"].unique():\n",
    "    if c not in p:\n",
    "        p[c] = \"k\""
   ]
  },
  {
   "cell_type": "code",
   "execution_count": 11,
   "metadata": {},
   "outputs": [],
   "source": [
    "def prepost_plot(\n",
    "    ax: plt.Axes,\n",
    "    df: pd.DataFrame,\n",
    "    x: str,\n",
    "    order: tuple[str, str],\n",
    "    y: str,\n",
    "    connect: list[str],\n",
    "    line_kwargs=None,\n",
    "    scatter: bool = True,\n",
    "    scatter_kwargs=None,\n",
    "    scatter_palette: dict[str, str] = None,\n",
    "    jitter: float = 0.05,\n",
    "    random_seed: int = None,\n",
    "    box: bool = True,\n",
    "    box_kwargs=None,\n",
    "    box_palette: dict[str, str] = None,\n",
    "):\n",
    "    assert len(order) == 2\n",
    "    if line_kwargs is None:\n",
    "        line_kwargs = dict(color=\"grey\", lw=0.5, zorder=100)\n",
    "    if scatter_kwargs is None:\n",
    "        scatter_kwargs = dict(color=\"black\", s=2, zorder=100)\n",
    "    if scatter_palette is not None:\n",
    "        scatter_kwargs[\"color\"] = [\n",
    "            scatter_palette[order[0]],\n",
    "            scatter_palette[order[1]],\n",
    "        ]\n",
    "    if random_seed is not None:\n",
    "        np.random.seed(random_seed)\n",
    "    if box_kwargs is None:\n",
    "        box_kwargs = dict(\n",
    "            fliersize=0,\n",
    "            saturation=1.0,\n",
    "            linewidth=1.0,\n",
    "        )\n",
    "\n",
    "    if box:\n",
    "        sns.boxplot(\n",
    "            data=df,\n",
    "            x=x,\n",
    "            y=y,\n",
    "            orient=\"v\",\n",
    "            order=order,\n",
    "            hue=x,\n",
    "            palette=box_palette,\n",
    "            ax=ax,\n",
    "            **box_kwargs,\n",
    "        )\n",
    "\n",
    "    df0 = df.set_index([x] + connect).loc[order[0], y]\n",
    "    df1 = df.set_index([x] + connect).loc[order[1], y]\n",
    "    df_merged = pd.DataFrame({order[0]: df0, order[1]: df1}).dropna().reset_index()\n",
    "    for i in range(len(df_merged)):\n",
    "        x_jittered = [\n",
    "            0 + np.random.uniform(-jitter, jitter),\n",
    "            1 + np.random.uniform(-jitter, jitter),\n",
    "        ]\n",
    "        ax.plot(\n",
    "            x_jittered,\n",
    "            [df_merged.iloc[i][order[0]], df_merged.iloc[i][order[1]]],\n",
    "            **line_kwargs,\n",
    "        )\n",
    "        if scatter:\n",
    "            ax.scatter(\n",
    "                x_jittered,\n",
    "                [df_merged.iloc[i][order[0]], df_merged.iloc[i][order[1]]],\n",
    "                **scatter_kwargs,\n",
    "            )\n",
    "    ax.set_xlim(-0.5, 1.5)\n",
    "    ax.set_xticks([0, 1])\n",
    "    ax.set_xticklabels(order)\n",
    "\n",
    "\n",
    "def faceted_prepost_plot(\n",
    "    data: pd.DataFrame,\n",
    "    x: str,\n",
    "    order: tuple[str, str],\n",
    "    y: str,\n",
    "    connect: list[str],\n",
    "    col: str,\n",
    "    col_order: list[str],\n",
    "    figsize: tuple[float, float] = None,\n",
    "    prepost_kwargs=None,\n",
    "):\n",
    "    assert len(order) == 2\n",
    "    data = data.copy()\n",
    "\n",
    "    data = data.loc[data[x].isin(order) & data[col].isin(col_order)]\n",
    "    fig, axes = plt.subplots(\n",
    "        1, len(col_order), sharex=True, sharey=True, figsize=figsize\n",
    "    )\n",
    "    if isinstance(axes, plt.Axes):\n",
    "        axes = [axes]\n",
    "    for i_col, col_val in enumerate(col_order):\n",
    "        ax = axes[i_col]\n",
    "        ax.set_title(col_val)\n",
    "        col_df = data.loc[data[col] == col_val]\n",
    "        prepost_plot(ax, col_df, x, order, y, connect, **prepost_kwargs)\n",
    "    axes[0].set_ylabel(y)\n",
    "    return fig, axes"
   ]
  },
  {
   "cell_type": "code",
   "execution_count": 12,
   "metadata": {},
   "outputs": [],
   "source": [
    "var = \"Cortical.Eta\"\n",
    "x = \"condition\"\n",
    "order = (\"Early.EXT.Wake\", \"Late.EXT.Wake\")\n",
    "connect = [\"subject\", \"experiment\"]\n",
    "pub_yticks = [-0.2, -0.4, -0.6, -0.8]"
   ]
  },
  {
   "cell_type": "code",
   "execution_count": 15,
   "metadata": {},
   "outputs": [
    {
     "data": {
      "image/png": "[encoded data removed]",
      "text/plain": [
       "<Figure size 500x400 with 3 Axes>"
      ]
     },
     "metadata": {},
     "output_type": "display_data"
    }
   ],
   "source": [
    "plot_for_pub = True\n",
    "\n",
    "fig, axes = faceted_prepost_plot(\n",
    "    df,\n",
    "    x=x,\n",
    "    order=order,\n",
    "    y=var,\n",
    "    connect=[\"subject\"],\n",
    "    col=\"experiment\",\n",
    "    col_order=(\"Novelty\", \"Locomotion\", \"Dual\"),\n",
    "    prepost_kwargs=dict(box_palette=p),\n",
    "    figsize=(5, 4),\n",
    ")\n",
    "for ax, name in zip(axes, [\"Novelty\", \"Locomotion\", \"Dual\"]):\n",
    "    if plot_for_pub:\n",
    "        ax.set_title(None)\n",
    "        ax.set_xlabel(None)\n",
    "        ax.set_xticklabels([\"E\", \"L\"], weight=\"bold\")\n",
    "        ax.set_ylabel(None)\n",
    "        ax.set_yticks(pub_yticks)\n",
    "    else:\n",
    "        ax.set_title(name)\n",
    "\n",
    "ylabel = \"CX 2-6Hz (Within-subject Z-score)\"\n",
    "axes[0].set_ylabel(ylabel, weight=\"bold\")\n",
    "fig.savefig(\n",
    "    nb.get_project_file(\"figures/cx_eta_ewk_change_by_experiment.png\"),\n",
    "    bbox_inches=\"tight\",\n",
    "    dpi=600,\n",
    ")"
   ]
  },
  {
   "cell_type": "code",
   "execution_count": null,
   "metadata": {},
   "outputs": [],
   "source": []
  }
 ],
 "metadata": {
  "kernelspec": {
   "display_name": ".venv",
   "language": "python",
   "name": "python3"
  },
  "language_info": {
   "codemirror_mode": {
    "name": "ipython",
    "version": 3
   },
   "file_extension": ".py",
   "mimetype": "text/x-python",
   "name": "python",
   "nbconvert_exporter": "python",
   "pygments_lexer": "ipython3",
   "version": "3.13.2"
  }
 },
 "nbformat": 4,
 "nbformat_minor": 2
}
