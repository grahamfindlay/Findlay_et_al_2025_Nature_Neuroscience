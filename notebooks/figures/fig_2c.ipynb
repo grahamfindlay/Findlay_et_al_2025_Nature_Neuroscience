{
 "cells": [
  {
   "cell_type": "code",
   "execution_count": 1,
   "metadata": {},
   "outputs": [],
   "source": [
    "import matplotlib.pyplot as plt\n",
    "import wisc_ecephys_tools as wet\n",
    "\n",
    "from findlay2025a import core\n",
    "from findlay2025a.constants import Experiments as Exps\n"
   ]
  },
  {
   "cell_type": "code",
   "execution_count": 2,
   "metadata": {},
   "outputs": [],
   "source": [
    "sglx_subject = wet.get_sglx_subject(\"CNPIX14-Francis\")\n",
    "experiment = Exps.NOD\n",
    "\n",
    "nb = core.get_project(\"seahorse\")\n",
    "s3 = core.get_project(\"shared\")\n",
    "\n",
    "light_dark_periods, light_dark_period_labels = wet.shared.get_light_dark_periods(\n",
    "    experiment, sglx_subject\n",
    ")"
   ]
  },
  {
   "cell_type": "code",
   "execution_count": 10,
   "metadata": {},
   "outputs": [
    {
     "data": {
      "image/png": "[encoded data removed]",
      "text/plain": [
       "<Figure size 3200x20 with 1 Axes>"
      ]
     },
     "metadata": {},
     "output_type": "display_data"
    }
   ],
   "source": [
    "fig, ax = plt.subplots(figsize=(32, 0.2))\n",
    "ax.set_xlim((light_dark_periods[0][0], light_dark_periods[-1][-1]))\n",
    "wet.shared.plot_lights_overlay(\n",
    "    light_dark_periods, light_dark_period_labels, ax=ax, ymin=0, ymax=1.0\n",
    ")\n",
    "ax.xaxis.set_visible(False)\n",
    "ax.yaxis.set_visible(False)\n",
    "ax.spines[[\"top\", \"bottom\", \"left\", \"right\"]].set_visible(False)\n",
    "# fig.savefig(nb.get_project_file('figures/LightDarkBar.svg'), bbox_inches='tight')"
   ]
  }
 ],
 "metadata": {
  "kernelspec": {
   "display_name": ".venv",
   "language": "python",
   "name": "python3"
  },
  "language_info": {
   "codemirror_mode": {
    "name": "ipython",
    "version": 3
   },
   "file_extension": ".py",
   "mimetype": "text/x-python",
   "name": "python",
   "nbconvert_exporter": "python",
   "pygments_lexer": "ipython3",
   "version": "3.13.2"
  },
  "orig_nbformat": 4
 },
 "nbformat": 4,
 "nbformat_minor": 2
}
